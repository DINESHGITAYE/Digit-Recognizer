{
  "nbformat": 4,
  "nbformat_minor": 0,
  "metadata": {
    "colab": {
      "name": "Digit recognizer_1.ipynb",
      "provenance": [],
      "collapsed_sections": [],
      "include_colab_link": true
    },
    "kernelspec": {
      "name": "python3",
      "display_name": "Python 3"
    },
    "accelerator": "GPU"
  },
  "cells": [
    {
      "cell_type": "markdown",
      "metadata": {
        "id": "view-in-github",
        "colab_type": "text"
      },
      "source": [
        "<a href=\"https://colab.research.google.com/github/DINESHGITAYE/Digit-Recognizer/blob/main/Digit_recognizer_1.ipynb\" target=\"_parent\"><img src=\"https://colab.research.google.com/assets/colab-badge.svg\" alt=\"Open In Colab\"/></a>"
      ]
    },
    {
      "cell_type": "markdown",
      "metadata": {
        "id": "NUTWa3UciPFN"
      },
      "source": [
        "# Import Libraries:"
      ]
    },
    {
      "cell_type": "code",
      "metadata": {
        "id": "RkiIB4CtiTtn"
      },
      "source": [
        "import tensorflow as tf\n",
        "from keras.models import Sequential\n",
        "from keras.layers import Dense, Conv2D, Flatten\n",
        "from keras.utils import to_categorical\n",
        "from keras.datasets import mnist\n",
        "import matplotlib.pyplot as plt\n",
        "import numpy as np\n",
        "%matplotlib inline"
      ],
      "execution_count": null,
      "outputs": []
    },
    {
      "cell_type": "markdown",
      "metadata": {
        "id": "cOYFkpt-idQS"
      },
      "source": [
        "## Dataset:"
      ]
    },
    {
      "cell_type": "code",
      "metadata": {
        "colab": {
          "base_uri": "https://localhost:8080/"
        },
        "id": "Cuvd5X1pia-8",
        "outputId": "fa6b53fd-46d0-42e2-c461-3c8c220dc0f0"
      },
      "source": [
        "data = mnist.load_data()\n",
        "(X_train, y_train), (X_test, y_test) = data"
      ],
      "execution_count": null,
      "outputs": [
        {
          "output_type": "stream",
          "text": [
            "Downloading data from https://storage.googleapis.com/tensorflow/tf-keras-datasets/mnist.npz\n",
            "11493376/11490434 [==============================] - 0s 0us/step\n"
          ],
          "name": "stdout"
        }
      ]
    },
    {
      "cell_type": "code",
      "metadata": {
        "colab": {
          "base_uri": "https://localhost:8080/"
        },
        "id": "BalHCZajijpR",
        "outputId": "8790ad56-7c34-4e3f-ec35-43393de2ebc8"
      },
      "source": [
        "print(X_train.shape)\n",
        "print(y_train.shape)"
      ],
      "execution_count": null,
      "outputs": [
        {
          "output_type": "stream",
          "text": [
            "(60000, 28, 28)\n",
            "(60000,)\n"
          ],
          "name": "stdout"
        }
      ]
    },
    {
      "cell_type": "code",
      "metadata": {
        "id": "p95qV4noiufa"
      },
      "source": [
        "# Lets plot one number:"
      ],
      "execution_count": null,
      "outputs": []
    },
    {
      "cell_type": "code",
      "metadata": {
        "colab": {
          "base_uri": "https://localhost:8080/"
        },
        "id": "Y5cXmtfvi0lX",
        "outputId": "b7d7d538-aa36-42ff-8027-5071a3209e63"
      },
      "source": [
        "X_train[0]"
      ],
      "execution_count": null,
      "outputs": [
        {
          "output_type": "execute_result",
          "data": {
            "text/plain": [
              "array([[  0,   0,   0,   0,   0,   0,   0,   0,   0,   0,   0,   0,   0,\n",
              "          0,   0,   0,   0,   0,   0,   0,   0,   0,   0,   0,   0,   0,\n",
              "          0,   0],\n",
              "       [  0,   0,   0,   0,   0,   0,   0,   0,   0,   0,   0,   0,   0,\n",
              "          0,   0,   0,   0,   0,   0,   0,   0,   0,   0,   0,   0,   0,\n",
              "          0,   0],\n",
              "       [  0,   0,   0,   0,   0,   0,   0,   0,   0,   0,   0,   0,   0,\n",
              "          0,   0,   0,   0,   0,   0,   0,   0,   0,   0,   0,   0,   0,\n",
              "          0,   0],\n",
              "       [  0,   0,   0,   0,   0,   0,   0,   0,   0,   0,   0,   0,   0,\n",
              "          0,   0,   0,   0,   0,   0,   0,   0,   0,   0,   0,   0,   0,\n",
              "          0,   0],\n",
              "       [  0,   0,   0,   0,   0,   0,   0,   0,   0,   0,   0,   0,   0,\n",
              "          0,   0,   0,   0,   0,   0,   0,   0,   0,   0,   0,   0,   0,\n",
              "          0,   0],\n",
              "       [  0,   0,   0,   0,   0,   0,   0,   0,   0,   0,   0,   0,   3,\n",
              "         18,  18,  18, 126, 136, 175,  26, 166, 255, 247, 127,   0,   0,\n",
              "          0,   0],\n",
              "       [  0,   0,   0,   0,   0,   0,   0,   0,  30,  36,  94, 154, 170,\n",
              "        253, 253, 253, 253, 253, 225, 172, 253, 242, 195,  64,   0,   0,\n",
              "          0,   0],\n",
              "       [  0,   0,   0,   0,   0,   0,   0,  49, 238, 253, 253, 253, 253,\n",
              "        253, 253, 253, 253, 251,  93,  82,  82,  56,  39,   0,   0,   0,\n",
              "          0,   0],\n",
              "       [  0,   0,   0,   0,   0,   0,   0,  18, 219, 253, 253, 253, 253,\n",
              "        253, 198, 182, 247, 241,   0,   0,   0,   0,   0,   0,   0,   0,\n",
              "          0,   0],\n",
              "       [  0,   0,   0,   0,   0,   0,   0,   0,  80, 156, 107, 253, 253,\n",
              "        205,  11,   0,  43, 154,   0,   0,   0,   0,   0,   0,   0,   0,\n",
              "          0,   0],\n",
              "       [  0,   0,   0,   0,   0,   0,   0,   0,   0,  14,   1, 154, 253,\n",
              "         90,   0,   0,   0,   0,   0,   0,   0,   0,   0,   0,   0,   0,\n",
              "          0,   0],\n",
              "       [  0,   0,   0,   0,   0,   0,   0,   0,   0,   0,   0, 139, 253,\n",
              "        190,   2,   0,   0,   0,   0,   0,   0,   0,   0,   0,   0,   0,\n",
              "          0,   0],\n",
              "       [  0,   0,   0,   0,   0,   0,   0,   0,   0,   0,   0,  11, 190,\n",
              "        253,  70,   0,   0,   0,   0,   0,   0,   0,   0,   0,   0,   0,\n",
              "          0,   0],\n",
              "       [  0,   0,   0,   0,   0,   0,   0,   0,   0,   0,   0,   0,  35,\n",
              "        241, 225, 160, 108,   1,   0,   0,   0,   0,   0,   0,   0,   0,\n",
              "          0,   0],\n",
              "       [  0,   0,   0,   0,   0,   0,   0,   0,   0,   0,   0,   0,   0,\n",
              "         81, 240, 253, 253, 119,  25,   0,   0,   0,   0,   0,   0,   0,\n",
              "          0,   0],\n",
              "       [  0,   0,   0,   0,   0,   0,   0,   0,   0,   0,   0,   0,   0,\n",
              "          0,  45, 186, 253, 253, 150,  27,   0,   0,   0,   0,   0,   0,\n",
              "          0,   0],\n",
              "       [  0,   0,   0,   0,   0,   0,   0,   0,   0,   0,   0,   0,   0,\n",
              "          0,   0,  16,  93, 252, 253, 187,   0,   0,   0,   0,   0,   0,\n",
              "          0,   0],\n",
              "       [  0,   0,   0,   0,   0,   0,   0,   0,   0,   0,   0,   0,   0,\n",
              "          0,   0,   0,   0, 249, 253, 249,  64,   0,   0,   0,   0,   0,\n",
              "          0,   0],\n",
              "       [  0,   0,   0,   0,   0,   0,   0,   0,   0,   0,   0,   0,   0,\n",
              "          0,  46, 130, 183, 253, 253, 207,   2,   0,   0,   0,   0,   0,\n",
              "          0,   0],\n",
              "       [  0,   0,   0,   0,   0,   0,   0,   0,   0,   0,   0,   0,  39,\n",
              "        148, 229, 253, 253, 253, 250, 182,   0,   0,   0,   0,   0,   0,\n",
              "          0,   0],\n",
              "       [  0,   0,   0,   0,   0,   0,   0,   0,   0,   0,  24, 114, 221,\n",
              "        253, 253, 253, 253, 201,  78,   0,   0,   0,   0,   0,   0,   0,\n",
              "          0,   0],\n",
              "       [  0,   0,   0,   0,   0,   0,   0,   0,  23,  66, 213, 253, 253,\n",
              "        253, 253, 198,  81,   2,   0,   0,   0,   0,   0,   0,   0,   0,\n",
              "          0,   0],\n",
              "       [  0,   0,   0,   0,   0,   0,  18, 171, 219, 253, 253, 253, 253,\n",
              "        195,  80,   9,   0,   0,   0,   0,   0,   0,   0,   0,   0,   0,\n",
              "          0,   0],\n",
              "       [  0,   0,   0,   0,  55, 172, 226, 253, 253, 253, 253, 244, 133,\n",
              "         11,   0,   0,   0,   0,   0,   0,   0,   0,   0,   0,   0,   0,\n",
              "          0,   0],\n",
              "       [  0,   0,   0,   0, 136, 253, 253, 253, 212, 135, 132,  16,   0,\n",
              "          0,   0,   0,   0,   0,   0,   0,   0,   0,   0,   0,   0,   0,\n",
              "          0,   0],\n",
              "       [  0,   0,   0,   0,   0,   0,   0,   0,   0,   0,   0,   0,   0,\n",
              "          0,   0,   0,   0,   0,   0,   0,   0,   0,   0,   0,   0,   0,\n",
              "          0,   0],\n",
              "       [  0,   0,   0,   0,   0,   0,   0,   0,   0,   0,   0,   0,   0,\n",
              "          0,   0,   0,   0,   0,   0,   0,   0,   0,   0,   0,   0,   0,\n",
              "          0,   0],\n",
              "       [  0,   0,   0,   0,   0,   0,   0,   0,   0,   0,   0,   0,   0,\n",
              "          0,   0,   0,   0,   0,   0,   0,   0,   0,   0,   0,   0,   0,\n",
              "          0,   0]], dtype=uint8)"
            ]
          },
          "metadata": {
            "tags": []
          },
          "execution_count": 5
        }
      ]
    },
    {
      "cell_type": "code",
      "metadata": {
        "colab": {
          "base_uri": "https://localhost:8080/",
          "height": 282
        },
        "id": "4PzeEotRi2wL",
        "outputId": "0ac6df4b-824e-458b-99ad-7443b34fc931"
      },
      "source": [
        "# lets see this image:\n",
        "plt.imshow(X_train[0])"
      ],
      "execution_count": null,
      "outputs": [
        {
          "output_type": "execute_result",
          "data": {
            "text/plain": [
              "<matplotlib.image.AxesImage at 0x7f25101b66d8>"
            ]
          },
          "metadata": {
            "tags": []
          },
          "execution_count": 6
        },
        {
          "output_type": "display_data",
          "data": {
            "image/png": "[encoded data removed]",
            "text/plain": [
              "<Figure size 432x288 with 1 Axes>"
            ]
          },
          "metadata": {
            "tags": [],
            "needs_background": "light"
          }
        }
      ]
    },
    {
      "cell_type": "code",
      "metadata": {
        "colab": {
          "base_uri": "https://localhost:8080/"
        },
        "id": "DahYAvcji5Jq",
        "outputId": "e58cc31d-43fb-4661-8602-1735de27723f"
      },
      "source": [
        "# Actual label of above image:\n",
        "y_train[0]"
      ],
      "execution_count": null,
      "outputs": [
        {
          "output_type": "execute_result",
          "data": {
            "text/plain": [
              "5"
            ]
          },
          "metadata": {
            "tags": []
          },
          "execution_count": 7
        }
      ]
    },
    {
      "cell_type": "code",
      "metadata": {
        "id": "qV-gA2vmi89N"
      },
      "source": [
        "# Reshape each image to 28 x 28 and convert these images to gray scale:\n",
        "\n",
        "X_train = X_train.reshape(60000, 28, 28, 1)\n",
        "X_test = X_test.reshape(10000, 28, 28, 1)"
      ],
      "execution_count": null,
      "outputs": []
    },
    {
      "cell_type": "code",
      "metadata": {
        "colab": {
          "base_uri": "https://localhost:8080/"
        },
        "id": "08n-kmpTjANk",
        "outputId": "6095fcfa-a9a3-4b4e-f787-60614cb3ec44"
      },
      "source": [
        "# make 10 categories for target variable y.\n",
        "\n",
        "y_train[0:10]"
      ],
      "execution_count": null,
      "outputs": [
        {
          "output_type": "execute_result",
          "data": {
            "text/plain": [
              "array([5, 0, 4, 1, 9, 2, 1, 3, 1, 4], dtype=uint8)"
            ]
          },
          "metadata": {
            "tags": []
          },
          "execution_count": 9
        }
      ]
    },
    {
      "cell_type": "code",
      "metadata": {
        "id": "fl7uI941jEk8"
      },
      "source": [
        "y_train = to_categorical(y_train)\n",
        "y_test = to_categorical(y_test)"
      ],
      "execution_count": null,
      "outputs": []
    },
    {
      "cell_type": "code",
      "metadata": {
        "colab": {
          "base_uri": "https://localhost:8080/"
        },
        "id": "zZxhgM4ejG1R",
        "outputId": "7aadd22d-9653-4a45-b9e3-28f8fceb8ad1"
      },
      "source": [
        "y_train[0:10]"
      ],
      "execution_count": null,
      "outputs": [
        {
          "output_type": "execute_result",
          "data": {
            "text/plain": [
              "array([[0., 0., 0., 0., 0., 1., 0., 0., 0., 0.],\n",
              "       [1., 0., 0., 0., 0., 0., 0., 0., 0., 0.],\n",
              "       [0., 0., 0., 0., 1., 0., 0., 0., 0., 0.],\n",
              "       [0., 1., 0., 0., 0., 0., 0., 0., 0., 0.],\n",
              "       [0., 0., 0., 0., 0., 0., 0., 0., 0., 1.],\n",
              "       [0., 0., 1., 0., 0., 0., 0., 0., 0., 0.],\n",
              "       [0., 1., 0., 0., 0., 0., 0., 0., 0., 0.],\n",
              "       [0., 0., 0., 1., 0., 0., 0., 0., 0., 0.],\n",
              "       [0., 1., 0., 0., 0., 0., 0., 0., 0., 0.],\n",
              "       [0., 0., 0., 0., 1., 0., 0., 0., 0., 0.]], dtype=float32)"
            ]
          },
          "metadata": {
            "tags": []
          },
          "execution_count": 11
        }
      ]
    },
    {
      "cell_type": "code",
      "metadata": {
        "id": "Bdnwm9ErjLIn"
      },
      "source": [
        ""
      ],
      "execution_count": null,
      "outputs": []
    },
    {
      "cell_type": "markdown",
      "metadata": {
        "id": "OPGAp_mQjPnB"
      },
      "source": [
        "# CNN Model:\n"
      ]
    },
    {
      "cell_type": "markdown",
      "metadata": {
        "id": "wa85Bx2xTFjc"
      },
      "source": [
        "## Model 1:\n",
        "Activation function: Relu with 32 nodes."
      ]
    },
    {
      "cell_type": "code",
      "metadata": {
        "colab": {
          "base_uri": "https://localhost:8080/"
        },
        "id": "D3XeqzPRjRev",
        "outputId": "0251e449-c1d5-4412-83dc-8e4be2afd40d"
      },
      "source": [
        "model_1 = Sequential()\n",
        "\n",
        "# Convolution layer:\n",
        "model_1.add(Conv2D(32, kernel_size = 3, activation = 'relu', input_shape = [28, 28, 1]))\n",
        "model_1.add(Conv2D(16, kernel_size = 3, activation = 'relu'))\n",
        "\n",
        "#Flatten:\n",
        "model_1.add(Flatten())\n",
        "\n",
        "# Output layer:\n",
        "model_1.add(Dense(units = 10, activation = 'softmax'))\n",
        "\n",
        "model_1.compile(optimizer = 'adam', loss = 'categorical_crossentropy', metrics = ['accuracy'])\n",
        "\n",
        "model_1.fit(X_train, y_train, validation_data= (X_test, y_test), epochs=10, verbose=1)"
      ],
      "execution_count": null,
      "outputs": [
        {
          "output_type": "stream",
          "text": [
            "Epoch 1/10\n",
            "1875/1875 [==============================] - 5s 3ms/step - loss: 0.2905 - accuracy: 0.9426 - val_loss: 0.1034 - val_accuracy: 0.9695\n",
            "Epoch 2/10\n",
            "1875/1875 [==============================] - 5s 2ms/step - loss: 0.0805 - accuracy: 0.9760 - val_loss: 0.1182 - val_accuracy: 0.9670\n",
            "Epoch 3/10\n",
            "1875/1875 [==============================] - 5s 2ms/step - loss: 0.0566 - accuracy: 0.9817 - val_loss: 0.0818 - val_accuracy: 0.9766\n",
            "Epoch 4/10\n",
            "1875/1875 [==============================] - 5s 2ms/step - loss: 0.0453 - accuracy: 0.9857 - val_loss: 0.0817 - val_accuracy: 0.9782\n",
            "Epoch 5/10\n",
            "1875/1875 [==============================] - 5s 2ms/step - loss: 0.0349 - accuracy: 0.9893 - val_loss: 0.1011 - val_accuracy: 0.9790\n",
            "Epoch 6/10\n",
            "1875/1875 [==============================] - 5s 2ms/step - loss: 0.0297 - accuracy: 0.9908 - val_loss: 0.1440 - val_accuracy: 0.9720\n",
            "Epoch 7/10\n",
            "1875/1875 [==============================] - 5s 2ms/step - loss: 0.0227 - accuracy: 0.9932 - val_loss: 0.1311 - val_accuracy: 0.9741\n",
            "Epoch 8/10\n",
            "1875/1875 [==============================] - 5s 2ms/step - loss: 0.0225 - accuracy: 0.9933 - val_loss: 0.1389 - val_accuracy: 0.9736\n",
            "Epoch 9/10\n",
            "1875/1875 [==============================] - 5s 2ms/step - loss: 0.0189 - accuracy: 0.9942 - val_loss: 0.1582 - val_accuracy: 0.9743\n",
            "Epoch 10/10\n",
            "1875/1875 [==============================] - 5s 2ms/step - loss: 0.0192 - accuracy: 0.9946 - val_loss: 0.1783 - val_accuracy: 0.9743\n"
          ],
          "name": "stdout"
        },
        {
          "output_type": "execute_result",
          "data": {
            "text/plain": [
              "<tensorflow.python.keras.callbacks.History at 0x7f8bc023bcf8>"
            ]
          },
          "metadata": {
            "tags": []
          },
          "execution_count": 13
        }
      ]
    },
    {
      "cell_type": "markdown",
      "metadata": {
        "id": "9sHe1hKtnM9W"
      },
      "source": [
        "The predicton accuracy of this model is 99.54%"
      ]
    },
    {
      "cell_type": "code",
      "metadata": {
        "id": "nt5XaBpVn1FV"
      },
      "source": [
        ""
      ],
      "execution_count": null,
      "outputs": []
    },
    {
      "cell_type": "markdown",
      "metadata": {
        "id": "Z-InQpKVnp3x"
      },
      "source": [
        "Now we increase the number of nodes to 64 and then check the accuracy of this model."
      ]
    },
    {
      "cell_type": "code",
      "metadata": {
        "colab": {
          "base_uri": "https://localhost:8080/"
        },
        "id": "7Od0kfGZn4LI",
        "outputId": "31972d04-2c2e-4c9e-a2c7-3f58544860b4"
      },
      "source": [
        "model_1 = Sequential()\n",
        "\n",
        "# Convolution layer:\n",
        "model_1.add(Conv2D(64, kernel_size = 3, activation = 'relu', input_shape = [28, 28, 1]))\n",
        "model_1.add(Conv2D(32, kernel_size = 3, activation = 'relu'))\n",
        "\n",
        "#Flatten:\n",
        "model_1.add(Flatten())\n",
        "\n",
        "# Output layer:\n",
        "model_1.add(Dense(units = 10, activation = 'softmax'))\n",
        "\n",
        "model_1.compile(optimizer = 'adam', loss = 'categorical_crossentropy', metrics = ['accuracy'])\n",
        "\n",
        "model_1.fit(X_train, y_train, validation_data= (X_test, y_test), epochs=10, verbose=1)"
      ],
      "execution_count": null,
      "outputs": [
        {
          "output_type": "stream",
          "text": [
            "Epoch 1/10\n",
            "1875/1875 [==============================] - 5s 3ms/step - loss: 0.2390 - accuracy: 0.9495 - val_loss: 0.0852 - val_accuracy: 0.9750\n",
            "Epoch 2/10\n",
            "1875/1875 [==============================] - 5s 3ms/step - loss: 0.0706 - accuracy: 0.9780 - val_loss: 0.0710 - val_accuracy: 0.9779\n",
            "Epoch 3/10\n",
            "1875/1875 [==============================] - 5s 3ms/step - loss: 0.0505 - accuracy: 0.9839 - val_loss: 0.0783 - val_accuracy: 0.9785\n",
            "Epoch 4/10\n",
            "1875/1875 [==============================] - 5s 3ms/step - loss: 0.0369 - accuracy: 0.9879 - val_loss: 0.0962 - val_accuracy: 0.9760\n",
            "Epoch 5/10\n",
            "1875/1875 [==============================] - 5s 3ms/step - loss: 0.0284 - accuracy: 0.9909 - val_loss: 0.0952 - val_accuracy: 0.9789\n",
            "Epoch 6/10\n",
            "1875/1875 [==============================] - 5s 3ms/step - loss: 0.0223 - accuracy: 0.9932 - val_loss: 0.1470 - val_accuracy: 0.9718\n",
            "Epoch 7/10\n",
            "1875/1875 [==============================] - 5s 3ms/step - loss: 0.0214 - accuracy: 0.9935 - val_loss: 0.1387 - val_accuracy: 0.9713\n",
            "Epoch 8/10\n",
            "1875/1875 [==============================] - 5s 3ms/step - loss: 0.0174 - accuracy: 0.9950 - val_loss: 0.1244 - val_accuracy: 0.9771\n",
            "Epoch 9/10\n",
            "1875/1875 [==============================] - 5s 3ms/step - loss: 0.0158 - accuracy: 0.9958 - val_loss: 0.1517 - val_accuracy: 0.9781\n",
            "Epoch 10/10\n",
            "1875/1875 [==============================] - 5s 3ms/step - loss: 0.0165 - accuracy: 0.9954 - val_loss: 0.1893 - val_accuracy: 0.9782\n"
          ],
          "name": "stdout"
        },
        {
          "output_type": "execute_result",
          "data": {
            "text/plain": [
              "<tensorflow.python.keras.callbacks.History at 0x7f8b7a0866a0>"
            ]
          },
          "metadata": {
            "tags": []
          },
          "execution_count": 14
        }
      ]
    },
    {
      "cell_type": "markdown",
      "metadata": {
        "id": "1fdi_BH9ywKx"
      },
      "source": [
        "The prediction acuuracy of this model is 99.54% which is same as previous model."
      ]
    },
    {
      "cell_type": "markdown",
      "metadata": {
        "id": "a0xVxzD2j0lp"
      },
      "source": [
        "## Model 2:\n",
        "Activation function: Leaky Relu"
      ]
    },
    {
      "cell_type": "code",
      "metadata": {
        "id": "IFi7STr-jnby"
      },
      "source": [
        "lrelu = lambda x: tf.keras.activations.relu(x, alpha=0.1)"
      ],
      "execution_count": null,
      "outputs": []
    },
    {
      "cell_type": "markdown",
      "metadata": {
        "id": "fS-rgN_ikLql"
      },
      "source": [
        "[Referance](https://stackoverflow.com/questions/48828478/how-do-you-use-keras-leakyrelu-in-python/48828561)"
      ]
    },
    {
      "cell_type": "code",
      "metadata": {
        "colab": {
          "base_uri": "https://localhost:8080/"
        },
        "id": "evexe24bkKdl",
        "outputId": "fb66d4a0-01e0-4cc6-d1e0-4b49dc2e7ead"
      },
      "source": [
        "model_2 = Sequential()\n",
        "\n",
        "# Convolution layer:\n",
        "model_2.add(Conv2D(32, kernel_size = 3, activation= lrelu , input_shape = [28, 28, 1]))\n",
        "model_2.add(Conv2D(16, kernel_size = 3, activation= lrelu))\n",
        "\n",
        "#Flatten:\n",
        "model_2.add(Flatten())\n",
        "\n",
        "# Output layer:\n",
        "model_2.add(Dense(units = 10, activation = 'softmax'))\n",
        "\n",
        "model_2.compile(optimizer = 'adam', loss = 'categorical_crossentropy', metrics = ['accuracy'])\n",
        "\n",
        "model_2.fit(X_train, y_train, validation_data= (X_test, y_test), epochs=10, verbose=1)"
      ],
      "execution_count": null,
      "outputs": [
        {
          "output_type": "stream",
          "text": [
            "Epoch 1/10\n",
            "1875/1875 [==============================] - 5s 3ms/step - loss: 0.3081 - accuracy: 0.9409 - val_loss: 0.1503 - val_accuracy: 0.9557\n",
            "Epoch 2/10\n",
            "1875/1875 [==============================] - 5s 2ms/step - loss: 0.1160 - accuracy: 0.9702 - val_loss: 0.1086 - val_accuracy: 0.9696\n",
            "Epoch 3/10\n",
            "1875/1875 [==============================] - 5s 3ms/step - loss: 0.1024 - accuracy: 0.9750 - val_loss: 0.1529 - val_accuracy: 0.9640\n",
            "Epoch 4/10\n",
            "1875/1875 [==============================] - 5s 2ms/step - loss: 0.1036 - accuracy: 0.9765 - val_loss: 0.2091 - val_accuracy: 0.9581\n",
            "Epoch 5/10\n",
            "1875/1875 [==============================] - 5s 2ms/step - loss: 0.0956 - accuracy: 0.9800 - val_loss: 0.1678 - val_accuracy: 0.9711\n",
            "Epoch 6/10\n",
            "1875/1875 [==============================] - 5s 2ms/step - loss: 0.0841 - accuracy: 0.9827 - val_loss: 0.1345 - val_accuracy: 0.9760\n",
            "Epoch 7/10\n",
            "1875/1875 [==============================] - 5s 2ms/step - loss: 0.0908 - accuracy: 0.9832 - val_loss: 0.1960 - val_accuracy: 0.9754\n",
            "Epoch 8/10\n",
            "1875/1875 [==============================] - 5s 3ms/step - loss: 0.1008 - accuracy: 0.9843 - val_loss: 0.2648 - val_accuracy: 0.9718\n",
            "Epoch 9/10\n",
            "1875/1875 [==============================] - 5s 3ms/step - loss: 0.0751 - accuracy: 0.9886 - val_loss: 0.3097 - val_accuracy: 0.9724\n",
            "Epoch 10/10\n",
            "1875/1875 [==============================] - 5s 3ms/step - loss: 0.1003 - accuracy: 0.9872 - val_loss: 0.2837 - val_accuracy: 0.9775\n"
          ],
          "name": "stdout"
        },
        {
          "output_type": "execute_result",
          "data": {
            "text/plain": [
              "<tensorflow.python.keras.callbacks.History at 0x7f8b62770668>"
            ]
          },
          "metadata": {
            "tags": []
          },
          "execution_count": 16
        }
      ]
    },
    {
      "cell_type": "markdown",
      "metadata": {
        "id": "KeArnV3ozU-r"
      },
      "source": [
        "The prediction accuracy of this model is 98.72% which is less than the 1st model."
      ]
    },
    {
      "cell_type": "markdown",
      "metadata": {
        "id": "qHyVQgaSzf7Y"
      },
      "source": [
        "Now we increase the nodes and check whether we get better accuracy or not."
      ]
    },
    {
      "cell_type": "code",
      "metadata": {
        "colab": {
          "base_uri": "https://localhost:8080/"
        },
        "id": "oeqf8xaVzJ8Z",
        "outputId": "90843b83-8b7d-4750-df03-547f05f47411"
      },
      "source": [
        "model_2 = Sequential()\n",
        "\n",
        "# Convolution layer:\n",
        "model_2.add(Conv2D(64, kernel_size = 3, activation= lrelu , input_shape = [28, 28, 1]))\n",
        "model_2.add(Conv2D(32, kernel_size = 3, activation= lrelu))\n",
        "\n",
        "#Flatten:\n",
        "model_2.add(Flatten())\n",
        "\n",
        "# Output layer:\n",
        "model_2.add(Dense(units = 10, activation = 'softmax'))\n",
        "\n",
        "model_2.compile(optimizer = 'adam', loss = 'categorical_crossentropy', metrics = ['accuracy'])\n",
        "\n",
        "model_2.fit(X_train, y_train, validation_data= (X_test, y_test), epochs=10, verbose=1)"
      ],
      "execution_count": null,
      "outputs": [
        {
          "output_type": "stream",
          "text": [
            "Epoch 1/10\n",
            "1875/1875 [==============================] - 6s 3ms/step - loss: 0.3468 - accuracy: 0.9394 - val_loss: 0.1162 - val_accuracy: 0.9703\n",
            "Epoch 2/10\n",
            "1875/1875 [==============================] - 6s 3ms/step - loss: 0.1645 - accuracy: 0.9656 - val_loss: 0.1706 - val_accuracy: 0.9662\n",
            "Epoch 3/10\n",
            "1875/1875 [==============================] - 6s 3ms/step - loss: 0.1550 - accuracy: 0.9708 - val_loss: 0.2140 - val_accuracy: 0.9615\n",
            "Epoch 4/10\n",
            "1875/1875 [==============================] - 6s 3ms/step - loss: 0.1921 - accuracy: 0.9718 - val_loss: 0.3128 - val_accuracy: 0.9686\n",
            "Epoch 5/10\n",
            "1875/1875 [==============================] - 6s 3ms/step - loss: 0.1966 - accuracy: 0.9768 - val_loss: 0.2822 - val_accuracy: 0.9725\n",
            "Epoch 6/10\n",
            "1875/1875 [==============================] - 6s 3ms/step - loss: 0.1998 - accuracy: 0.9799 - val_loss: 0.2734 - val_accuracy: 0.9755\n",
            "Epoch 7/10\n",
            "1875/1875 [==============================] - 6s 3ms/step - loss: 0.1847 - accuracy: 0.9834 - val_loss: 0.3982 - val_accuracy: 0.9770\n",
            "Epoch 8/10\n",
            "1875/1875 [==============================] - 6s 3ms/step - loss: 0.2516 - accuracy: 0.9833 - val_loss: 0.7524 - val_accuracy: 0.9679\n",
            "Epoch 9/10\n",
            "1875/1875 [==============================] - 6s 3ms/step - loss: 0.2090 - accuracy: 0.9862 - val_loss: 0.8385 - val_accuracy: 0.9663\n",
            "Epoch 10/10\n",
            "1875/1875 [==============================] - 6s 3ms/step - loss: 0.2067 - accuracy: 0.9884 - val_loss: 1.0651 - val_accuracy: 0.9738\n"
          ],
          "name": "stdout"
        },
        {
          "output_type": "execute_result",
          "data": {
            "text/plain": [
              "<tensorflow.python.keras.callbacks.History at 0x7f8b6245f780>"
            ]
          },
          "metadata": {
            "tags": []
          },
          "execution_count": 23
        }
      ]
    },
    {
      "cell_type": "markdown",
      "metadata": {
        "id": "ZRsepPmjzzWw"
      },
      "source": [
        "The prediction accuracy of this model increase slightly after increment in nodes."
      ]
    },
    {
      "cell_type": "markdown",
      "metadata": {
        "id": "rFLCv0pOkbjA"
      },
      "source": [
        "## Model 3:\n",
        "Activation function: Elu\n",
        "\n",
        "[Referance](https://stackoverflow.com/questions/56184666/how-to-set-alpha-parameter-in-activationelu-layer)"
      ]
    },
    {
      "cell_type": "code",
      "metadata": {
        "id": "CquLdUtrkkjG"
      },
      "source": [
        "from keras.activations import elu\n",
        "\n",
        "ELU = lambda x: elu(x, alpha=0.4)"
      ],
      "execution_count": null,
      "outputs": []
    },
    {
      "cell_type": "code",
      "metadata": {
        "colab": {
          "base_uri": "https://localhost:8080/"
        },
        "id": "L4631M0hkrCZ",
        "outputId": "0643b2d5-a612-49ee-cf42-ee61a9015680"
      },
      "source": [
        "model_3 = Sequential()\n",
        "\n",
        "# Convolution layer:\n",
        "model_3.add(Conv2D(32, kernel_size = 3, activation= ELU , input_shape = [28, 28, 1]))\n",
        "model_3.add(Conv2D(16, kernel_size = 3, activation= ELU))\n",
        "\n",
        "#Flatten:\n",
        "model_3.add(Flatten())\n",
        "\n",
        "# Output layer:\n",
        "model_3.add(Dense(units = 10, activation = 'softmax'))\n",
        "\n",
        "model_3.compile(optimizer = 'adam', loss = 'categorical_crossentropy', metrics = ['accuracy'])\n",
        "\n",
        "model_3.fit(X_train, y_train, validation_data= (X_test, y_test), epochs=10, verbose=1)"
      ],
      "execution_count": null,
      "outputs": [
        {
          "output_type": "stream",
          "text": [
            "Epoch 1/10\n",
            "1875/1875 [==============================] - 5s 3ms/step - loss: 0.3232 - accuracy: 0.9401 - val_loss: 0.1069 - val_accuracy: 0.9694\n",
            "Epoch 2/10\n",
            "1875/1875 [==============================] - 5s 3ms/step - loss: 0.0970 - accuracy: 0.9736 - val_loss: 0.1146 - val_accuracy: 0.9741\n",
            "Epoch 3/10\n",
            "1875/1875 [==============================] - 5s 3ms/step - loss: 0.0797 - accuracy: 0.9792 - val_loss: 0.1394 - val_accuracy: 0.9664\n",
            "Epoch 4/10\n",
            "1875/1875 [==============================] - 5s 3ms/step - loss: 0.0717 - accuracy: 0.9824 - val_loss: 0.1584 - val_accuracy: 0.9715\n",
            "Epoch 5/10\n",
            "1875/1875 [==============================] - 5s 3ms/step - loss: 0.0627 - accuracy: 0.9856 - val_loss: 0.1715 - val_accuracy: 0.9725\n",
            "Epoch 6/10\n",
            "1875/1875 [==============================] - 5s 3ms/step - loss: 0.0580 - accuracy: 0.9881 - val_loss: 0.1727 - val_accuracy: 0.9778\n",
            "Epoch 7/10\n",
            "1875/1875 [==============================] - 5s 3ms/step - loss: 0.0557 - accuracy: 0.9899 - val_loss: 0.1893 - val_accuracy: 0.9794\n",
            "Epoch 8/10\n",
            "1875/1875 [==============================] - 5s 3ms/step - loss: 0.0481 - accuracy: 0.9921 - val_loss: 0.2366 - val_accuracy: 0.9774\n",
            "Epoch 9/10\n",
            "1875/1875 [==============================] - 5s 3ms/step - loss: 0.0431 - accuracy: 0.9930 - val_loss: 0.2590 - val_accuracy: 0.9745\n",
            "Epoch 10/10\n",
            "1875/1875 [==============================] - 5s 3ms/step - loss: 0.0461 - accuracy: 0.9930 - val_loss: 0.3122 - val_accuracy: 0.9745\n"
          ],
          "name": "stdout"
        },
        {
          "output_type": "execute_result",
          "data": {
            "text/plain": [
              "<tensorflow.python.keras.callbacks.History at 0x7f8b625e0fd0>"
            ]
          },
          "metadata": {
            "tags": []
          },
          "execution_count": 18
        }
      ]
    },
    {
      "cell_type": "markdown",
      "metadata": {
        "id": "AKUskld-0DEv"
      },
      "source": [
        "The prediction accuracy of this model is 99.30%"
      ]
    },
    {
      "cell_type": "code",
      "metadata": {
        "colab": {
          "base_uri": "https://localhost:8080/"
        },
        "id": "nA_BBGnNkuHA",
        "outputId": "f6358a28-2cf8-4b8d-dcd3-c0ed6e0d7200"
      },
      "source": [
        "model_3 = Sequential()\n",
        "\n",
        "# Convolution layer:\n",
        "model_3.add(Conv2D(64, kernel_size = 3, activation= ELU , input_shape = [28, 28, 1]))\n",
        "model_3.add(Conv2D(32, kernel_size = 3, activation= ELU))\n",
        "\n",
        "#Flatten:\n",
        "model_3.add(Flatten())\n",
        "\n",
        "# Output layer:\n",
        "model_3.add(Dense(units = 10, activation = 'softmax'))\n",
        "\n",
        "model_3.compile(optimizer = 'adam', loss = 'categorical_crossentropy', metrics = ['accuracy'])\n",
        "\n",
        "model_3.fit(X_train, y_train, validation_data= (X_test, y_test), epochs=10, verbose=1)"
      ],
      "execution_count": null,
      "outputs": [
        {
          "output_type": "stream",
          "text": [
            "Epoch 1/10\n",
            "1875/1875 [==============================] - 7s 4ms/step - loss: 0.2706 - accuracy: 0.9458 - val_loss: 0.1395 - val_accuracy: 0.9630\n",
            "Epoch 2/10\n",
            "1875/1875 [==============================] - 7s 4ms/step - loss: 0.1402 - accuracy: 0.9711 - val_loss: 0.1648 - val_accuracy: 0.9705\n",
            "Epoch 3/10\n",
            "1875/1875 [==============================] - 7s 4ms/step - loss: 0.1379 - accuracy: 0.9768 - val_loss: 0.1935 - val_accuracy: 0.9702\n",
            "Epoch 4/10\n",
            "1875/1875 [==============================] - 7s 4ms/step - loss: 0.1371 - accuracy: 0.9811 - val_loss: 0.3377 - val_accuracy: 0.9680\n",
            "Epoch 5/10\n",
            "1875/1875 [==============================] - 7s 4ms/step - loss: 0.1230 - accuracy: 0.9853 - val_loss: 0.2847 - val_accuracy: 0.9776\n",
            "Epoch 6/10\n",
            "1875/1875 [==============================] - 7s 4ms/step - loss: 0.1145 - accuracy: 0.9880 - val_loss: 0.3670 - val_accuracy: 0.9769\n",
            "Epoch 7/10\n",
            "1875/1875 [==============================] - 7s 4ms/step - loss: 0.0940 - accuracy: 0.9903 - val_loss: 0.5360 - val_accuracy: 0.9726\n",
            "Epoch 8/10\n",
            "1875/1875 [==============================] - 7s 4ms/step - loss: 0.0990 - accuracy: 0.9915 - val_loss: 0.5506 - val_accuracy: 0.9749\n",
            "Epoch 9/10\n",
            "1875/1875 [==============================] - 7s 4ms/step - loss: 0.1079 - accuracy: 0.9921 - val_loss: 0.4853 - val_accuracy: 0.9817\n",
            "Epoch 10/10\n",
            "1875/1875 [==============================] - 7s 4ms/step - loss: 0.0832 - accuracy: 0.9938 - val_loss: 0.4672 - val_accuracy: 0.9797\n"
          ],
          "name": "stdout"
        },
        {
          "output_type": "execute_result",
          "data": {
            "text/plain": [
              "<tensorflow.python.keras.callbacks.History at 0x7f8b623a36d8>"
            ]
          },
          "metadata": {
            "tags": []
          },
          "execution_count": 24
        }
      ]
    },
    {
      "cell_type": "markdown",
      "metadata": {
        "id": "sw8LhOH51UZg"
      },
      "source": [
        "The prediction accuracy of this model is 99.38%"
      ]
    },
    {
      "cell_type": "markdown",
      "metadata": {
        "id": "gveRsaURk2Gf"
      },
      "source": [
        "# Keras Tuner:\n",
        "[Referance](https://keras-team.github.io/keras-tuner/)"
      ]
    },
    {
      "cell_type": "markdown",
      "metadata": {
        "id": "2VbTI7rmPuwJ"
      },
      "source": [
        "## Model 1:\n",
        "\n",
        "- *Model Confuguration:*\n",
        "1. Activation function in hidden layers = Relu\n",
        "2. Activation function in output layer = Softmax\n",
        "3. Initial epochs = 10\n",
        "4. maximum trials = 10\n",
        "5. final epochs = 20\n",
        "6. validation split = 20% of training data (i.e 0.2)\n",
        "7. optimizer = Adam"
      ]
    },
    {
      "cell_type": "code",
      "metadata": {
        "id": "DkZ1OSiLk5mM"
      },
      "source": [
        "import keras\n",
        "\n",
        "def build_model(hp):\n",
        "  model = keras.Sequential([\n",
        "                            keras.layers.Conv2D(\n",
        "                                filters = hp.Int('filter_1', min_value = 32, max_value = 100, step = 10),\n",
        "                                kernel_size = hp.Choice('kernel_1', values = [3, 5]),\n",
        "                                activation = 'relu',\n",
        "                                input_shape = (28, 28, 1)\n",
        "                            ),\n",
        "                            keras.layers.Conv2D(\n",
        "                                filters = hp.Int('filter_2', min_value = 32, max_value = 64, step = 10),\n",
        "                                kernel_size = hp.Choice('kernel_2', values = [3, 5]),\n",
        "                                activation = 'relu'\n",
        "                            ),\n",
        "                            keras.layers.Flatten(),\n",
        "                            keras.layers.Dense(\n",
        "                                units = hp.Int('dense_1', min_value = 32, max_value = 100, step = 10),\n",
        "                                activation = 'relu'\n",
        "                            ),\n",
        "                            keras.layers.Dense(10, activation='softmax')\n",
        "  ])\n",
        "\n",
        "  model.compile(optimizer = keras.optimizers.Adam(hp.Choice('lerning_rate', values = [1e-2, 1e-3])),\n",
        "                loss = 'categorical_crossentropy',\n",
        "                metrics = ['accuracy'])\n",
        "  \n",
        "  return model\n",
        "  "
      ],
      "execution_count": null,
      "outputs": []
    },
    {
      "cell_type": "code",
      "metadata": {
        "colab": {
          "base_uri": "https://localhost:8080/"
        },
        "id": "NEueP9OHlimM",
        "outputId": "3109691e-3dbf-419b-ff22-9ac1c62f07e8"
      },
      "source": [
        "pip install -U keras-tuner"
      ],
      "execution_count": null,
      "outputs": [
        {
          "output_type": "stream",
          "text": [
            "Collecting keras-tuner\n",
            "\u001b[?25l  Downloading https://files.pythonhosted.org/packages/20/ec/1ef246787174b1e2bb591c95f29d3c1310070cad877824f907faba3dade9/keras-tuner-1.0.2.tar.gz (62kB)\n",
            "\r\u001b[K     |█████▏                          | 10kB 20.4MB/s eta 0:00:01\r\u001b[K     |██████████▍                     | 20kB 17.4MB/s eta 0:00:01\r\u001b[K     |███████████████▋                | 30kB 14.3MB/s eta 0:00:01\r\u001b[K     |████████████████████▉           | 40kB 12.4MB/s eta 0:00:01\r\u001b[K     |██████████████████████████      | 51kB 8.8MB/s eta 0:00:01\r\u001b[K     |███████████████████████████████▎| 61kB 9.5MB/s eta 0:00:01\r\u001b[K     |████████████████████████████████| 71kB 6.0MB/s \n",
            "\u001b[?25hRequirement already satisfied, skipping upgrade: packaging in /usr/local/lib/python3.6/dist-packages (from keras-tuner) (20.4)\n",
            "Requirement already satisfied, skipping upgrade: future in /usr/local/lib/python3.6/dist-packages (from keras-tuner) (0.16.0)\n",
            "Requirement already satisfied, skipping upgrade: numpy in /usr/local/lib/python3.6/dist-packages (from keras-tuner) (1.18.5)\n",
            "Requirement already satisfied, skipping upgrade: tabulate in /usr/local/lib/python3.6/dist-packages (from keras-tuner) (0.8.7)\n",
            "Collecting terminaltables\n",
            "  Downloading https://files.pythonhosted.org/packages/9b/c4/4a21174f32f8a7e1104798c445dacdc1d4df86f2f26722767034e4de4bff/terminaltables-3.1.0.tar.gz\n",
            "Collecting colorama\n",
            "  Downloading https://files.pythonhosted.org/packages/44/98/5b86278fbbf250d239ae0ecb724f8572af1c91f4a11edf4d36a206189440/colorama-0.4.4-py2.py3-none-any.whl\n",
            "Requirement already satisfied, skipping upgrade: tqdm in /usr/local/lib/python3.6/dist-packages (from keras-tuner) (4.41.1)\n",
            "Requirement already satisfied, skipping upgrade: requests in /usr/local/lib/python3.6/dist-packages (from keras-tuner) (2.23.0)\n",
            "Requirement already satisfied, skipping upgrade: scipy in /usr/local/lib/python3.6/dist-packages (from keras-tuner) (1.4.1)\n",
            "Requirement already satisfied, skipping upgrade: scikit-learn in /usr/local/lib/python3.6/dist-packages (from keras-tuner) (0.22.2.post1)\n",
            "Requirement already satisfied, skipping upgrade: six in /usr/local/lib/python3.6/dist-packages (from packaging->keras-tuner) (1.15.0)\n",
            "Requirement already satisfied, skipping upgrade: pyparsing>=2.0.2 in /usr/local/lib/python3.6/dist-packages (from packaging->keras-tuner) (2.4.7)\n",
            "Requirement already satisfied, skipping upgrade: idna<3,>=2.5 in /usr/local/lib/python3.6/dist-packages (from requests->keras-tuner) (2.10)\n",
            "Requirement already satisfied, skipping upgrade: chardet<4,>=3.0.2 in /usr/local/lib/python3.6/dist-packages (from requests->keras-tuner) (3.0.4)\n",
            "Requirement already satisfied, skipping upgrade: certifi>=2017.4.17 in /usr/local/lib/python3.6/dist-packages (from requests->keras-tuner) (2020.11.8)\n",
            "Requirement already satisfied, skipping upgrade: urllib3!=1.25.0,!=1.25.1,<1.26,>=1.21.1 in /usr/local/lib/python3.6/dist-packages (from requests->keras-tuner) (1.24.3)\n",
            "Requirement already satisfied, skipping upgrade: joblib>=0.11 in /usr/local/lib/python3.6/dist-packages (from scikit-learn->keras-tuner) (0.17.0)\n",
            "Building wheels for collected packages: keras-tuner, terminaltables\n",
            "  Building wheel for keras-tuner (setup.py) ... \u001b[?25l\u001b[?25hdone\n",
            "  Created wheel for keras-tuner: filename=keras_tuner-1.0.2-cp36-none-any.whl size=78937 sha256=a4da960bf557b561c8a81824bcbdf341dc9e9c7e0279e5d43c9595552631c60f\n",
            "  Stored in directory: /root/.cache/pip/wheels/bb/a1/8a/7c3de0efb3707a1701b36ebbfdbc4e67aedf6d4943a1f463d6\n",
            "  Building wheel for terminaltables (setup.py) ... \u001b[?25l\u001b[?25hdone\n",
            "  Created wheel for terminaltables: filename=terminaltables-3.1.0-cp36-none-any.whl size=15356 sha256=8b09670a6a507902f15e7439271d20ba9e5123c3b4e69d7e94cee3d8809a3e43\n",
            "  Stored in directory: /root/.cache/pip/wheels/30/6b/50/6c75775b681fb36cdfac7f19799888ef9d8813aff9e379663e\n",
            "Successfully built keras-tuner terminaltables\n",
            "Installing collected packages: terminaltables, colorama, keras-tuner\n",
            "Successfully installed colorama-0.4.4 keras-tuner-1.0.2 terminaltables-3.1.0\n"
          ],
          "name": "stdout"
        }
      ]
    },
    {
      "cell_type": "code",
      "metadata": {
        "id": "I6h-94ALlJr-"
      },
      "source": [
        "from kerastuner import RandomSearch\n",
        "from kerastuner.engine.hyperparameters import HyperParameters"
      ],
      "execution_count": null,
      "outputs": []
    },
    {
      "cell_type": "code",
      "metadata": {
        "colab": {
          "base_uri": "https://localhost:8080/"
        },
        "id": "mztRdAtglPOK",
        "outputId": "7abeecd3-1017-465d-acb9-d354fcb0ca0d"
      },
      "source": [
        "tuner_1 = RandomSearch(build_model, objective='val_accuracy', max_trials = 10)"
      ],
      "execution_count": null,
      "outputs": [
        {
          "output_type": "stream",
          "text": [
            "INFO:tensorflow:Reloading Oracle from existing project ./untitled_project/oracle.json\n"
          ],
          "name": "stdout"
        }
      ]
    },
    {
      "cell_type": "code",
      "metadata": {
        "colab": {
          "base_uri": "https://localhost:8080/"
        },
        "id": "Ims_UNJrmaHM",
        "outputId": "315303ff-26d6-49d6-8338-b4520a6f327a"
      },
      "source": [
        "tuner_1.search(X_train, y_train, epochs = 10, validation_split = 0.2)"
      ],
      "execution_count": null,
      "outputs": [
        {
          "output_type": "stream",
          "text": [
            "Trial 10 Complete [00h 01m 01s]\n",
            "val_accuracy: 0.9850000143051147\n",
            "\n",
            "Best val_accuracy So Far: 0.9856666922569275\n",
            "Total elapsed time: 00h 11m 55s\n",
            "INFO:tensorflow:Oracle triggered exit\n"
          ],
          "name": "stdout"
        }
      ]
    },
    {
      "cell_type": "code",
      "metadata": {
        "id": "AUCqLngO_Ba4"
      },
      "source": [
        "best_model_1 = tuner_1.get_best_models(num_models=1)[0]"
      ],
      "execution_count": null,
      "outputs": []
    },
    {
      "cell_type": "code",
      "metadata": {
        "colab": {
          "base_uri": "https://localhost:8080/"
        },
        "id": "BvNLf-JiA2BK",
        "outputId": "6c219307-0950-4eb3-dce2-ddd06fc614c2"
      },
      "source": [
        "best_model_1.summary()"
      ],
      "execution_count": null,
      "outputs": [
        {
          "output_type": "stream",
          "text": [
            "Model: \"sequential\"\n",
            "_________________________________________________________________\n",
            "Layer (type)                 Output Shape              Param #   \n",
            "=================================================================\n",
            "conv2d (Conv2D)              (None, 24, 24, 72)        1872      \n",
            "_________________________________________________________________\n",
            "conv2d_1 (Conv2D)            (None, 22, 22, 32)        20768     \n",
            "_________________________________________________________________\n",
            "flatten (Flatten)            (None, 15488)             0         \n",
            "_________________________________________________________________\n",
            "dense (Dense)                (None, 82)                1270098   \n",
            "_________________________________________________________________\n",
            "dense_1 (Dense)              (None, 10)                830       \n",
            "=================================================================\n",
            "Total params: 1,293,568\n",
            "Trainable params: 1,293,568\n",
            "Non-trainable params: 0\n",
            "_________________________________________________________________\n"
          ],
          "name": "stdout"
        }
      ]
    },
    {
      "cell_type": "markdown",
      "metadata": {
        "id": "V7YO8Xn3Brw-"
      },
      "source": [
        " **Now we apply this model to our train data and then see the accuracy of this best model**"
      ]
    },
    {
      "cell_type": "code",
      "metadata": {
        "colab": {
          "base_uri": "https://localhost:8080/"
        },
        "id": "0WkkNxmLA_ZF",
        "outputId": "6ed02496-94a7-473f-ad4b-493ec6db0c26"
      },
      "source": [
        "history_1 = best_model_1.fit(X_train, y_train, epochs = 20, validation_split=0.2, initial_epoch=10)"
      ],
      "execution_count": null,
      "outputs": [
        {
          "output_type": "stream",
          "text": [
            "Epoch 11/20\n",
            "1500/1500 [==============================] - 6s 4ms/step - loss: 0.0201 - accuracy: 0.9971 - val_loss: 0.1695 - val_accuracy: 0.9889\n",
            "Epoch 12/20\n",
            "1500/1500 [==============================] - 6s 4ms/step - loss: 0.0204 - accuracy: 0.9972 - val_loss: 0.1054 - val_accuracy: 0.9930\n",
            "Epoch 13/20\n",
            "1500/1500 [==============================] - 6s 4ms/step - loss: 0.0239 - accuracy: 0.9969 - val_loss: 0.1313 - val_accuracy: 0.9923\n",
            "Epoch 14/20\n",
            "1500/1500 [==============================] - 6s 4ms/step - loss: 0.0247 - accuracy: 0.9972 - val_loss: 0.2341 - val_accuracy: 0.9884\n",
            "Epoch 15/20\n",
            "1500/1500 [==============================] - 6s 4ms/step - loss: 0.0222 - accuracy: 0.9977 - val_loss: 0.1901 - val_accuracy: 0.9909\n",
            "Epoch 16/20\n",
            "1500/1500 [==============================] - 6s 4ms/step - loss: 0.0272 - accuracy: 0.9974 - val_loss: 0.1817 - val_accuracy: 0.9920\n",
            "Epoch 17/20\n",
            "1500/1500 [==============================] - 6s 4ms/step - loss: 0.0251 - accuracy: 0.9973 - val_loss: 0.1702 - val_accuracy: 0.9909\n",
            "Epoch 18/20\n",
            "1500/1500 [==============================] - 6s 4ms/step - loss: 0.0210 - accuracy: 0.9975 - val_loss: 0.1557 - val_accuracy: 0.9912\n",
            "Epoch 19/20\n",
            "1500/1500 [==============================] - 6s 4ms/step - loss: 0.0159 - accuracy: 0.9983 - val_loss: 0.3096 - val_accuracy: 0.9881\n",
            "Epoch 20/20\n",
            "1500/1500 [==============================] - 6s 4ms/step - loss: 0.0399 - accuracy: 0.9969 - val_loss: 0.2380 - val_accuracy: 0.9910\n"
          ],
          "name": "stdout"
        }
      ]
    },
    {
      "cell_type": "code",
      "metadata": {
        "id": "5lJ2NHm6SCvP"
      },
      "source": [
        ""
      ],
      "execution_count": null,
      "outputs": []
    },
    {
      "cell_type": "code",
      "metadata": {
        "colab": {
          "base_uri": "https://localhost:8080/",
          "height": 295
        },
        "id": "koW9-zDDdM5w",
        "outputId": "55eb71a9-d08e-4f2b-ee5e-add655e6f828"
      },
      "source": [
        "train_acc = history_1.history['accuracy']\n",
        "val_acc = history_1.history['val_accuracy']\n",
        "epochs = range(11, 21)\n",
        "plt.plot(epochs, train_acc, 'g', label='Training accuracy')\n",
        "plt.plot(epochs, val_acc, 'b', label='validation accuracy')\n",
        "plt.title('Training and Validation accuracy')\n",
        "plt.xlabel('Epochs')\n",
        "plt.ylabel('Accuracy')\n",
        "plt.legend()\n",
        "plt.show()"
      ],
      "execution_count": null,
      "outputs": [
        {
          "output_type": "display_data",
          "data": {
            "image/png": "[encoded data removed]",
            "text/plain": [
              "<Figure size 432x288 with 1 Axes>"
            ]
          },
          "metadata": {
            "tags": [],
            "needs_background": "light"
          }
        }
      ]
    },
    {
      "cell_type": "markdown",
      "metadata": {
        "id": "pI7ubJNSEB1C"
      },
      "source": [
        "#### Prediction:"
      ]
    },
    {
      "cell_type": "code",
      "metadata": {
        "id": "GUoFPzqoCNaA"
      },
      "source": [
        "prediction = best_model_1.predict(X_test)"
      ],
      "execution_count": null,
      "outputs": []
    },
    {
      "cell_type": "code",
      "metadata": {
        "colab": {
          "base_uri": "https://localhost:8080/"
        },
        "id": "VtOwY5lwEYgP",
        "outputId": "3b050fb1-55b3-4095-e11d-d0f0e28fff9f"
      },
      "source": [
        "prediction[0]"
      ],
      "execution_count": null,
      "outputs": [
        {
          "output_type": "execute_result",
          "data": {
            "text/plain": [
              "array([[0.0000000e+00, 0.0000000e+00, 0.0000000e+00, ..., 1.0000000e+00,\n",
              "        0.0000000e+00, 0.0000000e+00],\n",
              "       [0.0000000e+00, 4.0807229e-35, 1.0000000e+00, ..., 0.0000000e+00,\n",
              "        0.0000000e+00, 0.0000000e+00],\n",
              "       [0.0000000e+00, 1.0000000e+00, 5.2936917e-29, ..., 6.2986003e-24,\n",
              "        8.8567828e-21, 1.4890671e-33],\n",
              "       ...,\n",
              "       [0.0000000e+00, 0.0000000e+00, 0.0000000e+00, ..., 0.0000000e+00,\n",
              "        1.4700757e-32, 0.0000000e+00],\n",
              "       [0.0000000e+00, 0.0000000e+00, 0.0000000e+00, ..., 0.0000000e+00,\n",
              "        0.0000000e+00, 0.0000000e+00],\n",
              "       [0.0000000e+00, 0.0000000e+00, 0.0000000e+00, ..., 0.0000000e+00,\n",
              "        0.0000000e+00, 0.0000000e+00]], dtype=float32)"
            ]
          },
          "metadata": {
            "tags": []
          },
          "execution_count": 27
        }
      ]
    },
    {
      "cell_type": "code",
      "metadata": {
        "colab": {
          "base_uri": "https://localhost:8080/"
        },
        "id": "2Cr4lUCdG3qv",
        "outputId": "1933449d-4dfc-4b66-dbeb-ae94dbf9dfc6"
      },
      "source": [
        "print(np.argmax(prediction[0]))"
      ],
      "execution_count": null,
      "outputs": [
        {
          "output_type": "stream",
          "text": [
            "7\n"
          ],
          "name": "stdout"
        }
      ]
    },
    {
      "cell_type": "markdown",
      "metadata": {
        "id": "u60o2WK9HfrB"
      },
      "source": [
        "our model predicts that, the 1st number in dataset is 7\n",
        "\n",
        "lets see the label of this image in y_test"
      ]
    },
    {
      "cell_type": "code",
      "metadata": {
        "colab": {
          "base_uri": "https://localhost:8080/"
        },
        "id": "9rDqxO8aHBuH",
        "outputId": "f8e67c93-aabb-47cc-f30b-b3086d58bd77"
      },
      "source": [
        "y_test[0]"
      ],
      "execution_count": null,
      "outputs": [
        {
          "output_type": "execute_result",
          "data": {
            "text/plain": [
              "array([0., 0., 0., 0., 0., 0., 0., 1., 0., 0.], dtype=float32)"
            ]
          },
          "metadata": {
            "tags": []
          },
          "execution_count": 29
        }
      ]
    },
    {
      "cell_type": "markdown",
      "metadata": {
        "id": "TW0NpOJgHzTY"
      },
      "source": [
        "So prediction of our model is correct."
      ]
    },
    {
      "cell_type": "markdown",
      "metadata": {
        "id": "7b4flIlFRNwA"
      },
      "source": [
        "## Model 2:\n",
        "\n",
        "- *Model confuguration*:\n",
        "1. Activation function in hidden layers = Leaky relu\n",
        "2. Activation function in output layer = Softmax\n",
        "3. Initial epochs = 10\n",
        "4. maximum trials = 10\n",
        "5. final epochs = 20\n",
        "6. validation split = 20% of training data (i.e 0.2)\n",
        "7. optimizer = Adam"
      ]
    },
    {
      "cell_type": "code",
      "metadata": {
        "id": "59pnR9muRZNQ"
      },
      "source": [
        "lrelu = lambda x: tf.keras.activations.relu(x, alpha=0.1)"
      ],
      "execution_count": null,
      "outputs": []
    },
    {
      "cell_type": "code",
      "metadata": {
        "id": "vdQXJSLFI9V-"
      },
      "source": [
        "import keras\n",
        "\n",
        "def build_model(hp):\n",
        "  model = keras.Sequential([\n",
        "                            keras.layers.Conv2D(\n",
        "                                filters = hp.Int('filter_1', min_value = 32, max_value = 100, step = 10),\n",
        "                                kernel_size = hp.Choice('kernel_1', values = [3, 5]),\n",
        "                                activation = lrelu,\n",
        "                                input_shape = (28, 28, 1)\n",
        "                            ),\n",
        "                            keras.layers.Conv2D(\n",
        "                                filters = hp.Int('filter_2', min_value = 32, max_value = 64, step = 10),\n",
        "                                kernel_size = hp.Choice('kernel_2', values = [3, 5]),\n",
        "                                activation = lrelu\n",
        "                            ),\n",
        "                            keras.layers.Flatten(),\n",
        "                            keras.layers.Dense(\n",
        "                                units = hp.Int('dense_1', min_value = 32, max_value = 100, step = 10),\n",
        "                                activation = lrelu\n",
        "                            ),\n",
        "                            keras.layers.Dense(10, activation='softmax')\n",
        "  ])\n",
        "\n",
        "  model.compile(optimizer = keras.optimizers.Adam(hp.Choice('lerning_rate', values = [1e-2, 1e-3])),\n",
        "                loss = 'categorical_crossentropy',\n",
        "                metrics = ['accuracy'])\n",
        "  \n",
        "  return model"
      ],
      "execution_count": null,
      "outputs": []
    },
    {
      "cell_type": "code",
      "metadata": {
        "colab": {
          "base_uri": "https://localhost:8080/"
        },
        "id": "Uuw9mudARyNy",
        "outputId": "d11bd97d-f921-408e-b0e7-1689b7b88500"
      },
      "source": [
        "tuner_2 = RandomSearch(build_model, objective='val_accuracy', max_trials = 10)\n",
        "\n",
        "tuner_2.search(X_train, y_train, epochs = 10, validation_split = 0.1)\n",
        "\n",
        "best_model_2 = tuner_2.get_best_models(num_models=1)[0]\n",
        "\n",
        "best_model_2.summary()"
      ],
      "execution_count": null,
      "outputs": [
        {
          "output_type": "stream",
          "text": [
            "INFO:tensorflow:Reloading Oracle from existing project ./untitled_project/oracle.json\n",
            "INFO:tensorflow:Reloading Tuner from ./untitled_project/tuner0.json\n",
            "INFO:tensorflow:Oracle triggered exit\n",
            "Model: \"sequential\"\n",
            "_________________________________________________________________\n",
            "Layer (type)                 Output Shape              Param #   \n",
            "=================================================================\n",
            "conv2d (Conv2D)              (None, 24, 24, 72)        1872      \n",
            "_________________________________________________________________\n",
            "conv2d_1 (Conv2D)            (None, 22, 22, 32)        20768     \n",
            "_________________________________________________________________\n",
            "flatten (Flatten)            (None, 15488)             0         \n",
            "_________________________________________________________________\n",
            "dense (Dense)                (None, 82)                1270098   \n",
            "_________________________________________________________________\n",
            "dense_1 (Dense)              (None, 10)                830       \n",
            "=================================================================\n",
            "Total params: 1,293,568\n",
            "Trainable params: 1,293,568\n",
            "Non-trainable params: 0\n",
            "_________________________________________________________________\n"
          ],
          "name": "stdout"
        }
      ]
    },
    {
      "cell_type": "code",
      "metadata": {
        "colab": {
          "base_uri": "https://localhost:8080/"
        },
        "id": "yiQeHeHsSEme",
        "outputId": "df059a15-fbb6-4777-b61b-848fa930194d"
      },
      "source": [
        "history_2 = best_model_2.fit(X_train, y_train, epochs = 20, validation_split=0.2, initial_epoch=10)"
      ],
      "execution_count": null,
      "outputs": [
        {
          "output_type": "stream",
          "text": [
            "Epoch 11/20\n",
            "1500/1500 [==============================] - 6s 4ms/step - loss: 3.7177 - accuracy: 0.9672 - val_loss: 0.5353 - val_accuracy: 0.9793\n",
            "Epoch 12/20\n",
            "1500/1500 [==============================] - 6s 4ms/step - loss: 0.2583 - accuracy: 0.9871 - val_loss: 0.4592 - val_accuracy: 0.9804\n",
            "Epoch 13/20\n",
            "1500/1500 [==============================] - 6s 4ms/step - loss: 0.2863 - accuracy: 0.9853 - val_loss: 0.4534 - val_accuracy: 0.9827\n",
            "Epoch 14/20\n",
            "1500/1500 [==============================] - 6s 4ms/step - loss: 0.4413 - accuracy: 0.9815 - val_loss: 0.4921 - val_accuracy: 0.9812\n",
            "Epoch 15/20\n",
            "1500/1500 [==============================] - 6s 4ms/step - loss: 0.3260 - accuracy: 0.9854 - val_loss: 0.5388 - val_accuracy: 0.9791\n",
            "Epoch 16/20\n",
            "1500/1500 [==============================] - 6s 4ms/step - loss: 0.2928 - accuracy: 0.9854 - val_loss: 0.4534 - val_accuracy: 0.9835\n",
            "Epoch 17/20\n",
            "1500/1500 [==============================] - 6s 4ms/step - loss: 0.2954 - accuracy: 0.9859 - val_loss: 0.4688 - val_accuracy: 0.9811\n",
            "Epoch 18/20\n",
            "1500/1500 [==============================] - 6s 4ms/step - loss: 0.3481 - accuracy: 0.9866 - val_loss: 0.7092 - val_accuracy: 0.9805\n",
            "Epoch 19/20\n",
            "1500/1500 [==============================] - 6s 4ms/step - loss: 0.3348 - accuracy: 0.9868 - val_loss: 1.2629 - val_accuracy: 0.9722\n",
            "Epoch 20/20\n",
            "1500/1500 [==============================] - 6s 4ms/step - loss: 0.3591 - accuracy: 0.9893 - val_loss: 1.2901 - val_accuracy: 0.9783\n"
          ],
          "name": "stdout"
        }
      ]
    },
    {
      "cell_type": "code",
      "metadata": {
        "colab": {
          "base_uri": "https://localhost:8080/",
          "height": 295
        },
        "id": "MLsVzRDBb20T",
        "outputId": "07cd6766-a997-43d1-ff06-cbe064a43835"
      },
      "source": [
        "train_acc = history_2.history['accuracy']\n",
        "val_acc = history_2.history['val_accuracy']\n",
        "epochs = range(11, 21)\n",
        "plt.plot(epochs, train_acc, 'g', label='Training accuracy')\n",
        "plt.plot(epochs, val_acc, 'b', label='validation accuracy')\n",
        "plt.title('Training and Validation Accuracy')\n",
        "plt.xlabel('Epochs')\n",
        "plt.ylabel('Accuracy')\n",
        "plt.legend()\n",
        "plt.show()"
      ],
      "execution_count": null,
      "outputs": [
        {
          "output_type": "display_data",
          "data": {
            "image/png": "[encoded data removed]",
            "text/plain": [
              "<Figure size 432x288 with 1 Axes>"
            ]
          },
          "metadata": {
            "tags": [],
            "needs_background": "light"
          }
        }
      ]
    },
    {
      "cell_type": "markdown",
      "metadata": {
        "id": "X97YfNIkTx1C"
      },
      "source": [
        "#### Prediction"
      ]
    },
    {
      "cell_type": "code",
      "metadata": {
        "colab": {
          "base_uri": "https://localhost:8080/"
        },
        "id": "4mdRJ_IkSOBi",
        "outputId": "68602cce-70b9-4e96-f10a-dd922bef68b6"
      },
      "source": [
        "prediction_lrelu = best_model_2.predict(X_test)\n",
        "print(np.argmax(prediction_lrelu[0]))\n",
        "print(y_test[0])"
      ],
      "execution_count": null,
      "outputs": [
        {
          "output_type": "stream",
          "text": [
            "7\n",
            "[0. 0. 0. 0. 0. 0. 0. 1. 0. 0.]\n"
          ],
          "name": "stdout"
        }
      ]
    },
    {
      "cell_type": "code",
      "metadata": {
        "id": "gcKLZXsTT_CE"
      },
      "source": [
        ""
      ],
      "execution_count": null,
      "outputs": []
    },
    {
      "cell_type": "markdown",
      "metadata": {
        "id": "7KAyXcu-UlrJ"
      },
      "source": [
        "## Model 3:\n",
        "\n",
        "- *Model confuguration:*\n",
        "1. Activation function in hidden layers = Elu\n",
        "2. Activation function in output layer = Softmax\n",
        "3. Initial epochs = 10\n",
        "4. maximum trials = 10\n",
        "5. final epochs = 20\n",
        "6. validation split = 20% of training data (i.e 0.2)\n",
        "7. optimizer = Adam"
      ]
    },
    {
      "cell_type": "code",
      "metadata": {
        "id": "9vTASZmWUve3"
      },
      "source": [
        "from keras.activations import elu\n",
        "\n",
        "ELU = lambda x: elu(x, alpha=0.4)"
      ],
      "execution_count": null,
      "outputs": []
    },
    {
      "cell_type": "code",
      "metadata": {
        "id": "RMcms97XUyQA"
      },
      "source": [
        "import keras\n",
        "\n",
        "def build_model(hp):\n",
        "  model = keras.Sequential([\n",
        "                            keras.layers.Conv2D(\n",
        "                                filters = hp.Int('filter_1', min_value = 32, max_value = 100, step = 10),\n",
        "                                kernel_size = hp.Choice('kernel_1', values = [3, 5]),\n",
        "                                activation = ELU,\n",
        "                                input_shape = (28, 28, 1)\n",
        "                            ),\n",
        "                            keras.layers.Conv2D(\n",
        "                                filters = hp.Int('filter_2', min_value = 32, max_value = 64, step = 10),\n",
        "                                kernel_size = hp.Choice('kernel_2', values = [3, 5]),\n",
        "                                activation = ELU\n",
        "                            ),\n",
        "                            keras.layers.Flatten(),\n",
        "                            keras.layers.Dense(\n",
        "                                units = hp.Int('dense_1', min_value = 32, max_value = 100, step = 10),\n",
        "                                activation = ELU\n",
        "                            ),\n",
        "                            keras.layers.Dense(10, activation='softmax')\n",
        "  ])\n",
        "\n",
        "  model.compile(optimizer = keras.optimizers.Adam(hp.Choice('lerning_rate', values = [1e-2, 1e-3])),\n",
        "                loss = 'categorical_crossentropy',\n",
        "                metrics = ['accuracy'])\n",
        "  \n",
        "  return model"
      ],
      "execution_count": null,
      "outputs": []
    },
    {
      "cell_type": "code",
      "metadata": {
        "colab": {
          "base_uri": "https://localhost:8080/"
        },
        "id": "-6asLlnJU1H5",
        "outputId": "ab8db6fd-bc92-474d-e2f4-eb60c1bc1a96"
      },
      "source": [
        "tuner_3 = RandomSearch(build_model, objective='val_accuracy', max_trials = 10)\n",
        "\n",
        "tuner_3.search(X_train, y_train, epochs = 10, validation_split = 0.1)\n",
        "\n",
        "best_model_3 = tuner_3.get_best_models(num_models=1)[0]\n",
        "\n",
        "best_model_3.summary()"
      ],
      "execution_count": null,
      "outputs": [
        {
          "output_type": "stream",
          "text": [
            "INFO:tensorflow:Reloading Oracle from existing project ./untitled_project/oracle.json\n",
            "INFO:tensorflow:Reloading Tuner from ./untitled_project/tuner0.json\n",
            "INFO:tensorflow:Oracle triggered exit\n",
            "Model: \"sequential\"\n",
            "_________________________________________________________________\n",
            "Layer (type)                 Output Shape              Param #   \n",
            "=================================================================\n",
            "conv2d (Conv2D)              (None, 24, 24, 72)        1872      \n",
            "_________________________________________________________________\n",
            "conv2d_1 (Conv2D)            (None, 22, 22, 32)        20768     \n",
            "_________________________________________________________________\n",
            "flatten (Flatten)            (None, 15488)             0         \n",
            "_________________________________________________________________\n",
            "dense (Dense)                (None, 82)                1270098   \n",
            "_________________________________________________________________\n",
            "dense_1 (Dense)              (None, 10)                830       \n",
            "=================================================================\n",
            "Total params: 1,293,568\n",
            "Trainable params: 1,293,568\n",
            "Non-trainable params: 0\n",
            "_________________________________________________________________\n"
          ],
          "name": "stdout"
        }
      ]
    },
    {
      "cell_type": "code",
      "metadata": {
        "colab": {
          "base_uri": "https://localhost:8080/"
        },
        "id": "YrGQr0gqVDnH",
        "outputId": "3edae057-1e3f-4fce-92cb-56252fbf2649"
      },
      "source": [
        "history_3 = best_model_3.fit(X_train, y_train, epochs = 20, validation_split = 0.2, initial_epoch=10)"
      ],
      "execution_count": null,
      "outputs": [
        {
          "output_type": "stream",
          "text": [
            "Epoch 11/20\n",
            "1500/1500 [==============================] - 7s 5ms/step - loss: 0.2099 - accuracy: 0.9809 - val_loss: 0.1261 - val_accuracy: 0.9843\n",
            "Epoch 12/20\n",
            "1500/1500 [==============================] - 7s 4ms/step - loss: 0.0451 - accuracy: 0.9923 - val_loss: 0.1436 - val_accuracy: 0.9808\n",
            "Epoch 13/20\n",
            "1500/1500 [==============================] - 7s 4ms/step - loss: 0.0638 - accuracy: 0.9910 - val_loss: 0.1545 - val_accuracy: 0.9831\n",
            "Epoch 14/20\n",
            "1500/1500 [==============================] - 7s 4ms/step - loss: 0.0844 - accuracy: 0.9911 - val_loss: 0.2368 - val_accuracy: 0.9801\n",
            "Epoch 15/20\n",
            "1500/1500 [==============================] - 7s 4ms/step - loss: 0.0610 - accuracy: 0.9927 - val_loss: 0.2305 - val_accuracy: 0.9831\n",
            "Epoch 16/20\n",
            "1500/1500 [==============================] - 7s 4ms/step - loss: 0.0620 - accuracy: 0.9931 - val_loss: 0.2671 - val_accuracy: 0.9844\n",
            "Epoch 17/20\n",
            "1500/1500 [==============================] - 7s 4ms/step - loss: 0.0546 - accuracy: 0.9938 - val_loss: 0.2178 - val_accuracy: 0.9847\n",
            "Epoch 18/20\n",
            "1500/1500 [==============================] - 7s 4ms/step - loss: 0.0776 - accuracy: 0.9937 - val_loss: 0.3464 - val_accuracy: 0.9829\n",
            "Epoch 19/20\n",
            "1500/1500 [==============================] - 7s 4ms/step - loss: 0.0618 - accuracy: 0.9948 - val_loss: 0.3449 - val_accuracy: 0.9855\n",
            "Epoch 20/20\n",
            "1500/1500 [==============================] - 7s 4ms/step - loss: 0.0431 - accuracy: 0.9964 - val_loss: 0.6380 - val_accuracy: 0.9796\n"
          ],
          "name": "stdout"
        }
      ]
    },
    {
      "cell_type": "code",
      "metadata": {
        "colab": {
          "base_uri": "https://localhost:8080/",
          "height": 295
        },
        "id": "yojXryhmZgRo",
        "outputId": "46c683a5-3171-4a55-f641-1aa04727df44"
      },
      "source": [
        "train_acc = history_3.history['accuracy']\n",
        "val_acc = history_3.history['val_accuracy']\n",
        "epochs = range(11, 21)\n",
        "plt.plot(epochs, train_acc, 'g', label='Training accuracy')\n",
        "plt.plot(epochs, val_acc, 'b', label='validation accuracy')\n",
        "plt.title('Training and Validation Accuracy')\n",
        "plt.xlabel('Epochs')\n",
        "plt.ylabel('Accuracy')\n",
        "plt.legend()\n",
        "plt.show()"
      ],
      "execution_count": null,
      "outputs": [
        {
          "output_type": "display_data",
          "data": {
            "image/png": "[encoded data removed]",
            "text/plain": [
              "<Figure size 432x288 with 1 Axes>"
            ]
          },
          "metadata": {
            "tags": [],
            "needs_background": "light"
          }
        }
      ]
    },
    {
      "cell_type": "markdown",
      "metadata": {
        "id": "Q3t4ZXP7VNHt"
      },
      "source": [
        "#### Prediction:"
      ]
    },
    {
      "cell_type": "code",
      "metadata": {
        "colab": {
          "base_uri": "https://localhost:8080/"
        },
        "id": "eOosuhOuVIzK",
        "outputId": "02470484-2dff-483e-902e-10d5d253a53a"
      },
      "source": [
        "prediction_Prelu = best_model_3.predict(X_test)\n",
        "print(np.argmax(prediction_Prelu[0]))\n",
        "print(y_test[0])"
      ],
      "execution_count": null,
      "outputs": [
        {
          "output_type": "stream",
          "text": [
            "7\n",
            "[0. 0. 0. 0. 0. 0. 0. 1. 0. 0.]\n"
          ],
          "name": "stdout"
        }
      ]
    },
    {
      "cell_type": "code",
      "metadata": {
        "id": "kzN7btOIWeas"
      },
      "source": [
        ""
      ],
      "execution_count": null,
      "outputs": []
    }
  ]
}