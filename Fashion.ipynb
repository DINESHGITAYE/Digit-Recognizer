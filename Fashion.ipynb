{
  "nbformat": 4,
  "nbformat_minor": 0,
  "metadata": {
    "colab": {
      "name": "Fashion.ipynb",
      "provenance": [],
      "collapsed_sections": [],
      "toc_visible": true,
      "authorship_tag": "ABX9TyPCxv/aYlspC9C6+VokMp5Y",
      "include_colab_link": true
    },
    "kernelspec": {
      "name": "python3",
      "display_name": "Python 3"
    },
    "accelerator": "GPU"
  },
  "cells": [
    {
      "cell_type": "markdown",
      "metadata": {
        "id": "view-in-github",
        "colab_type": "text"
      },
      "source": [
        "<a href=\"https://colab.research.google.com/github/DINESHGITAYE/Digit-Recognizer/blob/main/Fashion.ipynb\" target=\"_parent\"><img src=\"https://colab.research.google.com/assets/colab-badge.svg\" alt=\"Open In Colab\"/></a>"
      ]
    },
    {
      "cell_type": "code",
      "metadata": {
        "colab": {
          "base_uri": "https://localhost:8080/"
        },
        "id": "t36NgXEYn19e",
        "outputId": "6b0ade0d-6515-449e-8ac9-74312bccf334"
      },
      "source": [
        "pip install -U keras-tuner"
      ],
      "execution_count": 1,
      "outputs": [
        {
          "output_type": "stream",
          "text": [
            "Collecting keras-tuner\n",
            "\u001b[?25l  Downloading https://files.pythonhosted.org/packages/20/ec/1ef246787174b1e2bb591c95f29d3c1310070cad877824f907faba3dade9/keras-tuner-1.0.2.tar.gz (62kB)\n",
            "\r\u001b[K     |█████▏                          | 10kB 27.2MB/s eta 0:00:01\r\u001b[K     |██████████▍                     | 20kB 17.3MB/s eta 0:00:01\r\u001b[K     |███████████████▋                | 30kB 15.7MB/s eta 0:00:01\r\u001b[K     |████████████████████▉           | 40kB 15.1MB/s eta 0:00:01\r\u001b[K     |██████████████████████████      | 51kB 12.3MB/s eta 0:00:01\r\u001b[K     |███████████████████████████████▎| 61kB 12.4MB/s eta 0:00:01\r\u001b[K     |████████████████████████████████| 71kB 6.1MB/s \n",
            "\u001b[?25hRequirement already satisfied, skipping upgrade: packaging in /usr/local/lib/python3.6/dist-packages (from keras-tuner) (20.4)\n",
            "Requirement already satisfied, skipping upgrade: future in /usr/local/lib/python3.6/dist-packages (from keras-tuner) (0.16.0)\n",
            "Requirement already satisfied, skipping upgrade: numpy in /usr/local/lib/python3.6/dist-packages (from keras-tuner) (1.18.5)\n",
            "Requirement already satisfied, skipping upgrade: tabulate in /usr/local/lib/python3.6/dist-packages (from keras-tuner) (0.8.7)\n",
            "Collecting terminaltables\n",
            "  Downloading https://files.pythonhosted.org/packages/9b/c4/4a21174f32f8a7e1104798c445dacdc1d4df86f2f26722767034e4de4bff/terminaltables-3.1.0.tar.gz\n",
            "Collecting colorama\n",
            "  Downloading https://files.pythonhosted.org/packages/44/98/5b86278fbbf250d239ae0ecb724f8572af1c91f4a11edf4d36a206189440/colorama-0.4.4-py2.py3-none-any.whl\n",
            "Requirement already satisfied, skipping upgrade: tqdm in /usr/local/lib/python3.6/dist-packages (from keras-tuner) (4.41.1)\n",
            "Requirement already satisfied, skipping upgrade: requests in /usr/local/lib/python3.6/dist-packages (from keras-tuner) (2.23.0)\n",
            "Requirement already satisfied, skipping upgrade: scipy in /usr/local/lib/python3.6/dist-packages (from keras-tuner) (1.4.1)\n",
            "Requirement already satisfied, skipping upgrade: scikit-learn in /usr/local/lib/python3.6/dist-packages (from keras-tuner) (0.22.2.post1)\n",
            "Requirement already satisfied, skipping upgrade: six in /usr/local/lib/python3.6/dist-packages (from packaging->keras-tuner) (1.15.0)\n",
            "Requirement already satisfied, skipping upgrade: pyparsing>=2.0.2 in /usr/local/lib/python3.6/dist-packages (from packaging->keras-tuner) (2.4.7)\n",
            "Requirement already satisfied, skipping upgrade: chardet<4,>=3.0.2 in /usr/local/lib/python3.6/dist-packages (from requests->keras-tuner) (3.0.4)\n",
            "Requirement already satisfied, skipping upgrade: certifi>=2017.4.17 in /usr/local/lib/python3.6/dist-packages (from requests->keras-tuner) (2020.11.8)\n",
            "Requirement already satisfied, skipping upgrade: idna<3,>=2.5 in /usr/local/lib/python3.6/dist-packages (from requests->keras-tuner) (2.10)\n",
            "Requirement already satisfied, skipping upgrade: urllib3!=1.25.0,!=1.25.1,<1.26,>=1.21.1 in /usr/local/lib/python3.6/dist-packages (from requests->keras-tuner) (1.24.3)\n",
            "Requirement already satisfied, skipping upgrade: joblib>=0.11 in /usr/local/lib/python3.6/dist-packages (from scikit-learn->keras-tuner) (0.17.0)\n",
            "Building wheels for collected packages: keras-tuner, terminaltables\n",
            "  Building wheel for keras-tuner (setup.py) ... \u001b[?25l\u001b[?25hdone\n",
            "  Created wheel for keras-tuner: filename=keras_tuner-1.0.2-cp36-none-any.whl size=78937 sha256=b4a5b5f1f4fa6a63a2f228e363e49f54ff83dcf94f3e531da6ed70210ca00390\n",
            "  Stored in directory: /root/.cache/pip/wheels/bb/a1/8a/7c3de0efb3707a1701b36ebbfdbc4e67aedf6d4943a1f463d6\n",
            "  Building wheel for terminaltables (setup.py) ... \u001b[?25l\u001b[?25hdone\n",
            "  Created wheel for terminaltables: filename=terminaltables-3.1.0-cp36-none-any.whl size=15356 sha256=3802171bd11d0da5c9ed4711a34d0bf19ca814142d41e51866ba67e1b28e0587\n",
            "  Stored in directory: /root/.cache/pip/wheels/30/6b/50/6c75775b681fb36cdfac7f19799888ef9d8813aff9e379663e\n",
            "Successfully built keras-tuner terminaltables\n",
            "Installing collected packages: terminaltables, colorama, keras-tuner\n",
            "Successfully installed colorama-0.4.4 keras-tuner-1.0.2 terminaltables-3.1.0\n"
          ],
          "name": "stdout"
        }
      ]
    },
    {
      "cell_type": "markdown",
      "metadata": {
        "id": "ral07Um4H3yb"
      },
      "source": [
        "# Import Libraries:"
      ]
    },
    {
      "cell_type": "code",
      "metadata": {
        "id": "3o0SbB5tn4ns"
      },
      "source": [
        "import tensorflow as tf\n",
        "from keras.models import Sequential\n",
        "from keras.layers import Dense, Conv2D, Flatten, MaxPool2D\n",
        "from keras.utils import to_categorical\n",
        "from keras.datasets import fashion_mnist\n",
        "import numpy as np\n",
        "import matplotlib.pyplot as plt\n",
        "%matplotlib inline\n",
        "\n",
        "import keras\n",
        "from kerastuner import RandomSearch\n",
        "from kerastuner.engine.hyperparameters import HyperParameters\n"
      ],
      "execution_count": 2,
      "outputs": []
    },
    {
      "cell_type": "markdown",
      "metadata": {
        "id": "h7ztBEBEiDIf"
      },
      "source": [
        "# Dataset:"
      ]
    },
    {
      "cell_type": "markdown",
      "metadata": {
        "id": "DhjA7N8fi211"
      },
      "source": [
        "dataset labels:\n",
        "\n",
        "- 0\tT-shirt/top\n",
        "- 1\tTrouser\n",
        "- 2\tPullover\n",
        "- 3\tDress\n",
        "- 4\tCoat\n",
        "- 5\tSandal\n",
        "- 6\tShirt\n",
        "- 7\tSneaker\n",
        "- 8\tBag\n",
        "- 9\tAnkle boot"
      ]
    },
    {
      "cell_type": "code",
      "metadata": {
        "id": "EnaMd8j3bstZ",
        "colab": {
          "base_uri": "https://localhost:8080/"
        },
        "outputId": "f83d4ec5-7b40-468d-cc79-bc34af8f01ed"
      },
      "source": [
        "(X_train, y_train), (X_test, y_test) = fashion_mnist.load_data()"
      ],
      "execution_count": 3,
      "outputs": [
        {
          "output_type": "stream",
          "text": [
            "Downloading data from https://storage.googleapis.com/tensorflow/tf-keras-datasets/train-labels-idx1-ubyte.gz\n",
            "32768/29515 [=================================] - 0s 0us/step\n",
            "Downloading data from https://storage.googleapis.com/tensorflow/tf-keras-datasets/train-images-idx3-ubyte.gz\n",
            "26427392/26421880 [==============================] - 0s 0us/step\n",
            "Downloading data from https://storage.googleapis.com/tensorflow/tf-keras-datasets/t10k-labels-idx1-ubyte.gz\n",
            "8192/5148 [===============================================] - 0s 0us/step\n",
            "Downloading data from https://storage.googleapis.com/tensorflow/tf-keras-datasets/t10k-images-idx3-ubyte.gz\n",
            "4423680/4422102 [==============================] - 0s 0us/step\n"
          ],
          "name": "stdout"
        }
      ]
    },
    {
      "cell_type": "code",
      "metadata": {
        "colab": {
          "base_uri": "https://localhost:8080/"
        },
        "id": "P1huz4szgUnk",
        "outputId": "eb4c4003-4403-4ada-cb9a-82455ebafe9f"
      },
      "source": [
        "print(X_train.shape)\n",
        "print(y_train.shape)"
      ],
      "execution_count": 4,
      "outputs": [
        {
          "output_type": "stream",
          "text": [
            "(60000, 28, 28)\n",
            "(60000,)\n"
          ],
          "name": "stdout"
        }
      ]
    },
    {
      "cell_type": "code",
      "metadata": {
        "colab": {
          "base_uri": "https://localhost:8080/"
        },
        "id": "GadFHOkPiJm8",
        "outputId": "87897b51-d39f-4589-b7e8-aab60602b720"
      },
      "source": [
        "print(X_test.shape)\n",
        "print(y_test.shape)"
      ],
      "execution_count": 5,
      "outputs": [
        {
          "output_type": "stream",
          "text": [
            "(10000, 28, 28)\n",
            "(10000,)\n"
          ],
          "name": "stdout"
        }
      ]
    },
    {
      "cell_type": "code",
      "metadata": {
        "colab": {
          "base_uri": "https://localhost:8080/"
        },
        "id": "1iZq5l6ViQgE",
        "outputId": "73c16672-f208-49c7-bd45-e36412305e12"
      },
      "source": [
        "X_train[10]"
      ],
      "execution_count": 6,
      "outputs": [
        {
          "output_type": "execute_result",
          "data": {
            "text/plain": [
              "array([[  0,   0,   0,   0,   0,   0,   0,  11, 142, 200, 106,   0,   0,\n",
              "          0,   0,   0,   0,   0,  85, 185, 112,   0,   0,   0,   0,   0,\n",
              "          0,   0],\n",
              "       [  0,   0,   0,   0,   0,   0, 152, 214, 217, 194, 236, 216, 187,\n",
              "        149, 135, 153, 211, 217, 231, 205, 217, 188,  34,   0,   0,   0,\n",
              "          0,   0],\n",
              "       [  0,   0,   0,   0,   0,  66, 185, 166, 180, 181, 190, 211, 221,\n",
              "        197, 146, 198, 206, 191, 168, 190, 172, 188, 175,   0,   0,   0,\n",
              "          0,   0],\n",
              "       [  0,   0,   0,   0,   0, 135, 153, 160, 175, 180, 170, 186, 187,\n",
              "        190, 188, 190, 187, 174, 195, 185, 174, 161, 175,  59,   0,   0,\n",
              "          0,   0],\n",
              "       [  0,   0,   0,   0,   0, 161, 147, 160, 170, 178, 177, 180, 168,\n",
              "        173, 174, 171, 185, 184, 185, 172, 171, 164, 174, 120,   0,   0,\n",
              "          0,   0],\n",
              "       [  0,   0,   0,   0,   2, 175, 146, 145, 168, 178, 181, 185, 180,\n",
              "        184, 178, 179, 187, 191, 193, 190, 181, 171, 172, 158,   0,   0,\n",
              "          0,   0],\n",
              "       [  0,   0,   0,   0,  35, 177, 155, 140, 151, 172, 191, 187, 186,\n",
              "        187, 186, 187, 182, 191, 194, 188, 180, 161, 161, 185,   0,   0,\n",
              "          0,   0],\n",
              "       [  0,   0,   0,   0,  59, 170, 153, 141, 120, 154, 160, 161, 172,\n",
              "        168, 166, 161, 165, 172, 170, 164, 139, 149, 162, 166,  21,   0,\n",
              "          0,   0],\n",
              "       [  0,   0,   0,   0,  79, 145, 160, 214, 123, 128, 153, 160, 164,\n",
              "        158, 157, 154, 155, 170, 165, 141, 195, 193, 152, 166,  61,   0,\n",
              "          0,   0],\n",
              "       [  0,   0,   0,   0, 100, 157, 225, 245, 175, 113, 174, 158, 158,\n",
              "        160, 155, 160, 164, 178, 188, 135, 185, 240, 201, 172, 108,   0,\n",
              "          0,   0],\n",
              "       [  0,   0,   0,   0,   0,  31, 174,  28, 126, 153, 166, 152, 158,\n",
              "        158, 160, 161, 157, 168, 191, 188,  18, 132, 159,   7,   0,   0,\n",
              "          0,   0],\n",
              "       [  0,   0,   0,   0,   0,   0,   0,   0,  82, 187, 159, 153, 157,\n",
              "        158, 162, 164, 164, 154, 187, 190,   0,   0,   0,   0,   0,   0,\n",
              "          0,   0],\n",
              "       [  0,   0,   0,   0,   1,   3,   5,   0,  37, 175, 158, 155, 162,\n",
              "        158, 160, 162, 165, 153, 177, 205,   0,   0,   3,   3,   0,   0,\n",
              "          0,   0],\n",
              "       [  0,   0,   0,   0,   0,   0,   1,   0,  25, 175, 152, 160, 158,\n",
              "        161, 160, 164, 164, 161, 166, 200,   0,   0,   1,   0,   0,   0,\n",
              "          0,   0],\n",
              "       [  0,   0,   0,   0,   0,   0,   4,   0,  30, 171, 147, 164, 155,\n",
              "        165, 161, 165, 162, 170, 164, 162,   0,   0,   2,   0,   0,   0,\n",
              "          0,   0],\n",
              "       [  0,   0,   0,   0,   0,   0,   4,   0,  57, 166, 155, 164, 166,\n",
              "        161, 161, 164, 167, 165, 165, 162,  28,   0,   3,   0,   0,   0,\n",
              "          0,   0],\n",
              "       [  0,   0,   0,   0,   0,   0,   3,   0, 114, 161, 161, 166, 159,\n",
              "        168, 161, 161, 172, 162, 165, 171,  50,   0,   5,   0,   0,   0,\n",
              "          0,   0],\n",
              "       [  0,   0,   0,   0,   0,   0,   1,   0, 149, 157, 167, 172, 159,\n",
              "        172, 164, 161, 172, 170, 160, 171,  89,   0,   4,   0,   0,   0,\n",
              "          0,   0],\n",
              "       [  0,   0,   0,   0,   0,   2,   0,   4, 171, 164, 166, 173, 159,\n",
              "        179, 166, 160, 174, 167, 162, 166, 128,   0,   2,   0,   0,   0,\n",
              "          0,   0],\n",
              "       [  0,   0,   0,   0,   0,   3,   0,  18, 152, 173, 160, 179, 154,\n",
              "        181, 166, 164, 175, 170, 166, 170, 164,   0,   0,   1,   0,   0,\n",
              "          0,   0],\n",
              "       [  0,   0,   0,   0,   0,   4,   0,  47, 165, 172, 167, 185, 153,\n",
              "        187, 173, 165, 174, 179, 166, 166, 158,   5,   0,   3,   0,   0,\n",
              "          0,   0],\n",
              "       [  0,   0,   0,   0,   0,   4,   0,  87, 180, 162, 179, 179, 157,\n",
              "        191, 182, 165, 168, 190, 173, 165, 166,  20,   0,   4,   0,   0,\n",
              "          0,   0],\n",
              "       [  0,   0,   0,   0,   0,   4,   0, 105, 187, 157, 194, 175, 161,\n",
              "        190, 184, 170, 158, 205, 177, 168, 171,  44,   0,   4,   0,   0,\n",
              "          0,   0],\n",
              "       [  0,   0,   0,   0,   0,   5,   0, 138, 181, 158, 205, 160, 167,\n",
              "        190, 198, 167, 152, 218, 186, 170, 172,  57,   0,   5,   0,   0,\n",
              "          0,   0],\n",
              "       [  0,   0,   0,   0,   0,   5,   0, 135, 174, 167, 199, 155, 166,\n",
              "        201, 219, 165, 158, 218, 188, 167, 175,  56,   0,   7,   0,   0,\n",
              "          0,   0],\n",
              "       [  0,   0,   0,   0,   0,   5,   0, 129, 171, 172, 177, 153, 159,\n",
              "        206, 216, 148, 157, 206, 190, 165, 175,  48,   0,   5,   0,   0,\n",
              "          0,   0],\n",
              "       [  0,   0,   0,   0,   0,   5,   0, 167, 187, 182, 198, 194, 200,\n",
              "        226, 240, 184, 206, 255, 197, 178, 179,  42,   0,   5,   0,   0,\n",
              "          0,   0],\n",
              "       [  0,   0,   0,   0,   0,   3,   0, 115, 135, 113, 106,  85,  82,\n",
              "        108, 133,  83,  90, 121, 120, 110, 158,  18,   0,   3,   0,   0,\n",
              "          0,   0]], dtype=uint8)"
            ]
          },
          "metadata": {
            "tags": []
          },
          "execution_count": 6
        }
      ]
    },
    {
      "cell_type": "code",
      "metadata": {
        "colab": {
          "base_uri": "https://localhost:8080/",
          "height": 282
        },
        "id": "jcLA0e6riWtC",
        "outputId": "0171badc-bf97-4145-bd7c-0353fffe272f"
      },
      "source": [
        "plt.imshow(X_train[10].reshape(28, 28))"
      ],
      "execution_count": 7,
      "outputs": [
        {
          "output_type": "execute_result",
          "data": {
            "text/plain": [
              "<matplotlib.image.AxesImage at 0x7f5ffd86be10>"
            ]
          },
          "metadata": {
            "tags": []
          },
          "execution_count": 7
        },
        {
          "output_type": "display_data",
          "data": {
            "image/png": "[encoded data removed]",
            "text/plain": [
              "<Figure size 432x288 with 1 Axes>"
            ]
          },
          "metadata": {
            "tags": [],
            "needs_background": "light"
          }
        }
      ]
    },
    {
      "cell_type": "code",
      "metadata": {
        "colab": {
          "base_uri": "https://localhost:8080/",
          "height": 157
        },
        "id": "W3HBDL5iiejh",
        "outputId": "9d240dda-132f-40f4-838b-cea53ad6f278"
      },
      "source": [
        "# Lets print multiple images.\n",
        "plt.figure()\n",
        "\n",
        "f, axis = plt.subplots(1,4) \n",
        "\n",
        "axis[0].imshow(X_train[0])\n",
        "axis[1].imshow(X_train[1])\n",
        "axis[2].imshow(X_train[2])\n",
        "axis[3].imshow(X_train[3])"
      ],
      "execution_count": 8,
      "outputs": [
        {
          "output_type": "execute_result",
          "data": {
            "text/plain": [
              "<matplotlib.image.AxesImage at 0x7f5ffd269f28>"
            ]
          },
          "metadata": {
            "tags": []
          },
          "execution_count": 8
        },
        {
          "output_type": "display_data",
          "data": {
            "text/plain": [
              "<Figure size 432x288 with 0 Axes>"
            ]
          },
          "metadata": {
            "tags": []
          }
        },
        {
          "output_type": "display_data",
          "data": {
            "image/png": "[encoded data removed]",
            "text/plain": [
              "<Figure size 432x288 with 4 Axes>"
            ]
          },
          "metadata": {
            "tags": [],
            "needs_background": "light"
          }
        }
      ]
    },
    {
      "cell_type": "code",
      "metadata": {
        "colab": {
          "base_uri": "https://localhost:8080/"
        },
        "id": "K_5cBmHCkBWC",
        "outputId": "c551c2a6-2187-4604-d920-db596a82a4bd"
      },
      "source": [
        "y_train[0:4]"
      ],
      "execution_count": 9,
      "outputs": [
        {
          "output_type": "execute_result",
          "data": {
            "text/plain": [
              "array([9, 0, 0, 3], dtype=uint8)"
            ]
          },
          "metadata": {
            "tags": []
          },
          "execution_count": 9
        }
      ]
    },
    {
      "cell_type": "markdown",
      "metadata": {
        "id": "dkjA6FdMIDBO"
      },
      "source": [
        "# Data preparation:"
      ]
    },
    {
      "cell_type": "code",
      "metadata": {
        "id": "kAcomxEjkYD7"
      },
      "source": [
        "# Reshape data:\n",
        "\n",
        "X_train = X_train.reshape(60000, 28, 28, 1)\n",
        "X_test = X_test.reshape(10000, 28, 28, 1)"
      ],
      "execution_count": 10,
      "outputs": []
    },
    {
      "cell_type": "code",
      "metadata": {
        "colab": {
          "base_uri": "https://localhost:8080/"
        },
        "id": "VNE23sD1l7hc",
        "outputId": "467c5226-de1b-4db0-d89c-967b2ec09e90"
      },
      "source": [
        "np.unique(y_train)"
      ],
      "execution_count": 11,
      "outputs": [
        {
          "output_type": "execute_result",
          "data": {
            "text/plain": [
              "array([0, 1, 2, 3, 4, 5, 6, 7, 8, 9], dtype=uint8)"
            ]
          },
          "metadata": {
            "tags": []
          },
          "execution_count": 11
        }
      ]
    },
    {
      "cell_type": "code",
      "metadata": {
        "id": "i_LdIeP1l9pH"
      },
      "source": [
        "# One hot encoding:\n",
        "y_train = to_categorical(y_train)\n",
        "y_test = to_categorical(y_test)"
      ],
      "execution_count": 12,
      "outputs": []
    },
    {
      "cell_type": "code",
      "metadata": {
        "colab": {
          "base_uri": "https://localhost:8080/"
        },
        "id": "I8hv6mcKm2MO",
        "outputId": "2584c93a-9903-4b23-9aad-583999f5c172"
      },
      "source": [
        "y_train[0:10]"
      ],
      "execution_count": 13,
      "outputs": [
        {
          "output_type": "execute_result",
          "data": {
            "text/plain": [
              "array([[0., 0., 0., 0., 0., 0., 0., 0., 0., 1.],\n",
              "       [1., 0., 0., 0., 0., 0., 0., 0., 0., 0.],\n",
              "       [1., 0., 0., 0., 0., 0., 0., 0., 0., 0.],\n",
              "       [0., 0., 0., 1., 0., 0., 0., 0., 0., 0.],\n",
              "       [1., 0., 0., 0., 0., 0., 0., 0., 0., 0.],\n",
              "       [0., 0., 1., 0., 0., 0., 0., 0., 0., 0.],\n",
              "       [0., 0., 0., 0., 0., 0., 0., 1., 0., 0.],\n",
              "       [0., 0., 1., 0., 0., 0., 0., 0., 0., 0.],\n",
              "       [0., 0., 0., 0., 0., 1., 0., 0., 0., 0.],\n",
              "       [0., 0., 0., 0., 0., 1., 0., 0., 0., 0.]], dtype=float32)"
            ]
          },
          "metadata": {
            "tags": []
          },
          "execution_count": 13
        }
      ]
    },
    {
      "cell_type": "code",
      "metadata": {
        "id": "k6Ye1elxnqum"
      },
      "source": [
        ""
      ],
      "execution_count": null,
      "outputs": []
    },
    {
      "cell_type": "markdown",
      "metadata": {
        "id": "sbXNbB9OnXcp"
      },
      "source": [
        "# Model 1:"
      ]
    },
    {
      "cell_type": "markdown",
      "metadata": {
        "id": "LyBVgxEHGn11"
      },
      "source": [
        "optimizer = \"Adam\" "
      ]
    },
    {
      "cell_type": "code",
      "metadata": {
        "id": "-t7OQYnXon-0",
        "colab": {
          "base_uri": "https://localhost:8080/"
        },
        "outputId": "256b4519-acdd-4d7d-84f9-10aa78562571"
      },
      "source": [
        "model_1 = Sequential()\n",
        "\n",
        "model_1.add(Conv2D(32, kernel_size = 3, activation = 'relu', input_shape = [28, 28, 1]))\n",
        "model_1.add(Conv2D(filters=16, kernel_size=3, activation='relu'))\n",
        "\n",
        "model_1.add(Flatten())\n",
        "model.add(Dense(units = 10, activation='softmax'))\n",
        "\n",
        "model_1.compile(optimizer = 'adam', loss = 'categorical_crossentropy', metrics = ['accuracy'])\n",
        "\n",
        "model_1.fit(X_train, y_train, validation_data= (X_test, y_test), epochs=10, verbose=1)"
      ],
      "execution_count": null,
      "outputs": [
        {
          "output_type": "stream",
          "text": [
            "Epoch 1/10\n",
            "1875/1875 [==============================] - 6s 3ms/step - loss: 0.4887 - accuracy: 0.8429 - val_loss: 0.3883 - val_accuracy: 0.8690\n",
            "Epoch 2/10\n",
            "1875/1875 [==============================] - 5s 3ms/step - loss: 0.3034 - accuracy: 0.8906 - val_loss: 0.3827 - val_accuracy: 0.8757\n",
            "Epoch 3/10\n",
            "1875/1875 [==============================] - 6s 3ms/step - loss: 0.2510 - accuracy: 0.9092 - val_loss: 0.3714 - val_accuracy: 0.8739\n",
            "Epoch 4/10\n",
            "1875/1875 [==============================] - 5s 3ms/step - loss: 0.2212 - accuracy: 0.9193 - val_loss: 0.4252 - val_accuracy: 0.8718\n",
            "Epoch 5/10\n",
            "1875/1875 [==============================] - 6s 3ms/step - loss: 0.1944 - accuracy: 0.9289 - val_loss: 0.4083 - val_accuracy: 0.8765\n",
            "Epoch 6/10\n",
            "1875/1875 [==============================] - 6s 3ms/step - loss: 0.1753 - accuracy: 0.9364 - val_loss: 0.4305 - val_accuracy: 0.8664\n",
            "Epoch 7/10\n",
            "1875/1875 [==============================] - 5s 3ms/step - loss: 0.1632 - accuracy: 0.9418 - val_loss: 0.5217 - val_accuracy: 0.8647\n",
            "Epoch 8/10\n",
            "1875/1875 [==============================] - 5s 3ms/step - loss: 0.1497 - accuracy: 0.9452 - val_loss: 0.5111 - val_accuracy: 0.8736\n",
            "Epoch 9/10\n",
            "1875/1875 [==============================] - 5s 3ms/step - loss: 0.1410 - accuracy: 0.9486 - val_loss: 0.5594 - val_accuracy: 0.8741\n",
            "Epoch 10/10\n",
            "1875/1875 [==============================] - 5s 3ms/step - loss: 0.1256 - accuracy: 0.9541 - val_loss: 0.6003 - val_accuracy: 0.8686\n"
          ],
          "name": "stdout"
        },
        {
          "output_type": "execute_result",
          "data": {
            "text/plain": [
              "<tensorflow.python.keras.callbacks.History at 0x7f7ff03865c0>"
            ]
          },
          "metadata": {
            "tags": []
          },
          "execution_count": 14
        }
      ]
    },
    {
      "cell_type": "markdown",
      "metadata": {
        "id": "8XSAYCwWGvRj"
      },
      "source": [
        "# Model 2:\n",
        "Optimizer: \"rmsprop\""
      ]
    },
    {
      "cell_type": "code",
      "metadata": {
        "colab": {
          "base_uri": "https://localhost:8080/"
        },
        "id": "PfdHUwLKGuft",
        "outputId": "85a476ec-3f91-4a01-ebaa-2aa3e9ea7356"
      },
      "source": [
        "model_2 = Sequential()\n",
        "\n",
        "model_2.add(Conv2D(32, kernel_size = 3, activation = 'relu', input_shape = [28, 28, 1]))\n",
        "model_2.add(Conv2D(filters=16, kernel_size=3, activation='relu'))\n",
        "\n",
        "model_2.add(Flatten())\n",
        "model_2.add(Dense(units = 10, activation='softmax'))\n",
        "\n",
        "model_2.compile(optimizer = 'rmsprop', loss = 'categorical_crossentropy', metrics = ['accuracy'])\n",
        "\n",
        "model_2.fit(X_train, y_train, validation_data= (X_test, y_test), epochs=10, verbose=1)"
      ],
      "execution_count": 14,
      "outputs": [
        {
          "output_type": "stream",
          "text": [
            "Epoch 1/10\n",
            "1875/1875 [==============================] - 6s 3ms/step - loss: 0.6696 - accuracy: 0.8257 - val_loss: 0.4952 - val_accuracy: 0.8340\n",
            "Epoch 2/10\n",
            "1875/1875 [==============================] - 6s 3ms/step - loss: 0.4370 - accuracy: 0.8540 - val_loss: 0.4996 - val_accuracy: 0.8291\n",
            "Epoch 3/10\n",
            "1875/1875 [==============================] - 6s 3ms/step - loss: 0.4250 - accuracy: 0.8593 - val_loss: 0.5571 - val_accuracy: 0.8333\n",
            "Epoch 4/10\n",
            "1875/1875 [==============================] - 6s 3ms/step - loss: 0.4194 - accuracy: 0.8600 - val_loss: 0.4839 - val_accuracy: 0.8353\n",
            "Epoch 5/10\n",
            "1875/1875 [==============================] - 6s 3ms/step - loss: 0.4123 - accuracy: 0.8628 - val_loss: 0.4448 - val_accuracy: 0.8483\n",
            "Epoch 6/10\n",
            "1875/1875 [==============================] - 6s 3ms/step - loss: 0.4116 - accuracy: 0.8610 - val_loss: 0.4538 - val_accuracy: 0.8463\n",
            "Epoch 7/10\n",
            "1875/1875 [==============================] - 6s 3ms/step - loss: 0.4122 - accuracy: 0.8602 - val_loss: 0.4633 - val_accuracy: 0.8387\n",
            "Epoch 8/10\n",
            "1875/1875 [==============================] - 6s 3ms/step - loss: 0.4141 - accuracy: 0.8615 - val_loss: 0.4966 - val_accuracy: 0.8531\n",
            "Epoch 9/10\n",
            "1875/1875 [==============================] - 6s 3ms/step - loss: 0.4150 - accuracy: 0.8612 - val_loss: 0.4665 - val_accuracy: 0.8426\n",
            "Epoch 10/10\n",
            "1875/1875 [==============================] - 6s 3ms/step - loss: 0.4170 - accuracy: 0.8594 - val_loss: 0.4613 - val_accuracy: 0.8472\n"
          ],
          "name": "stdout"
        },
        {
          "output_type": "execute_result",
          "data": {
            "text/plain": [
              "<tensorflow.python.keras.callbacks.History at 0x7f5fa0736208>"
            ]
          },
          "metadata": {
            "tags": []
          },
          "execution_count": 14
        }
      ]
    },
    {
      "cell_type": "markdown",
      "metadata": {
        "id": "ytQe3Ir8IPIE"
      },
      "source": [
        "This model gives the less accuracy than previous model were we use 'Adam' optimizer.\n",
        "\n",
        "So, Now we use adam optimizer in keras tunner"
      ]
    },
    {
      "cell_type": "markdown",
      "metadata": {
        "id": "wPj-UnhL4tJm"
      },
      "source": [
        "# Keras Tuner"
      ]
    },
    {
      "cell_type": "markdown",
      "metadata": {
        "id": "oQmI6KTuGAZH"
      },
      "source": [
        "## Model 1:\n",
        "- *Model Configuration:*\n",
        "1. Activation function in hidden layers = Relu\n",
        "2. Activation function in output layer = Softmax\n",
        "3. Initial epochs = 10\n",
        "4. maximum trials = 10\n",
        "5. final epochs = 20\n",
        "6. validation split = 20% of training data (0.2)\n",
        "7. Optimizer = Adam"
      ]
    },
    {
      "cell_type": "code",
      "metadata": {
        "id": "bN2IPetkF_kf"
      },
      "source": [
        ""
      ],
      "execution_count": null,
      "outputs": []
    },
    {
      "cell_type": "code",
      "metadata": {
        "id": "0PpeGgAD8uqs"
      },
      "source": [
        "def build_model(hp):\n",
        "  model = keras.Sequential([\n",
        "                            keras.layers.Conv2D(\n",
        "                                filters = hp.Int('filter_1', min_value = 32, max_value = 100, step = 10),\n",
        "                                kernel_size = hp.Choice('kernel_1', values = [3, 5]),\n",
        "                                activation = 'relu',\n",
        "                                input_shape = (28, 28, 1)\n",
        "                            ),\n",
        "                            keras.layers.Conv2D(\n",
        "                                filters = hp.Int('filter_2', min_value = 32, max_value = 64, step = 10),\n",
        "                                kernel_size = hp.Choice('kernel_2', values = [3, 5]),\n",
        "                                activation = 'relu'\n",
        "                            ),\n",
        "                            keras.layers.Flatten(),\n",
        "                            keras.layers.Dense(\n",
        "                                units = hp.Int('dense_1', min_value = 32, max_value = 100, step = 10),\n",
        "                                activation = 'relu'\n",
        "                            ),\n",
        "                            keras.layers.Dense(10, activation='softmax')\n",
        "  ])\n",
        "\n",
        "  model.compile(optimizer = keras.optimizers.Adam(hp.Choice('lerning_rate', values = [1e-2, 1e-3])),\n",
        "                loss = 'categorical_crossentropy',\n",
        "                metrics = ['accuracy'])\n",
        "  \n",
        "  return model"
      ],
      "execution_count": null,
      "outputs": []
    },
    {
      "cell_type": "code",
      "metadata": {
        "colab": {
          "base_uri": "https://localhost:8080/"
        },
        "id": "PsEcKAmBBjuK",
        "outputId": "3cc42814-7f65-4e53-9bea-044b59b956b7"
      },
      "source": [
        "tuner_1 = RandomSearch(build_model, objective='val_accuracy', max_trials = 10)"
      ],
      "execution_count": null,
      "outputs": [
        {
          "output_type": "stream",
          "text": [
            "INFO:tensorflow:Reloading Oracle from existing project ./untitled_project/oracle.json\n",
            "INFO:tensorflow:Reloading Tuner from ./untitled_project/tuner0.json\n"
          ],
          "name": "stdout"
        }
      ]
    },
    {
      "cell_type": "code",
      "metadata": {
        "colab": {
          "base_uri": "https://localhost:8080/"
        },
        "id": "o8E8rcRmBz5G",
        "outputId": "0b49c31a-de7c-4393-d4c6-708a4a5dd3ca"
      },
      "source": [
        "tuner_1.search(X_train, y_train, epochs = 10, validation_split = 0.2)"
      ],
      "execution_count": null,
      "outputs": [
        {
          "output_type": "stream",
          "text": [
            "INFO:tensorflow:Oracle triggered exit\n"
          ],
          "name": "stdout"
        }
      ]
    },
    {
      "cell_type": "code",
      "metadata": {
        "colab": {
          "base_uri": "https://localhost:8080/"
        },
        "id": "wWII03_sB5f_",
        "outputId": "a7456901-bb60-4387-e306-0cb9d54ecfbf"
      },
      "source": [
        "tuner_1.search(X_train, y_train, epochs = 10, validation_split = 0.2)\n",
        "model_1 = tuner_1.get_best_models(num_models=1)[0]\n",
        "model_1.summary()"
      ],
      "execution_count": null,
      "outputs": [
        {
          "output_type": "stream",
          "text": [
            "INFO:tensorflow:Oracle triggered exit\n",
            "Model: \"sequential\"\n",
            "_________________________________________________________________\n",
            "Layer (type)                 Output Shape              Param #   \n",
            "=================================================================\n",
            "conv2d (Conv2D)              (None, 24, 24, 72)        1872      \n",
            "_________________________________________________________________\n",
            "conv2d_1 (Conv2D)            (None, 22, 22, 52)        33748     \n",
            "_________________________________________________________________\n",
            "flatten (Flatten)            (None, 25168)             0         \n",
            "_________________________________________________________________\n",
            "dense (Dense)                (None, 92)                2315548   \n",
            "_________________________________________________________________\n",
            "dense_1 (Dense)              (None, 10)                930       \n",
            "=================================================================\n",
            "Total params: 2,352,098\n",
            "Trainable params: 2,352,098\n",
            "Non-trainable params: 0\n",
            "_________________________________________________________________\n"
          ],
          "name": "stdout"
        }
      ]
    },
    {
      "cell_type": "code",
      "metadata": {
        "colab": {
          "base_uri": "https://localhost:8080/"
        },
        "id": "vrj8LhxtDEBv",
        "outputId": "a8b86577-28c2-40b1-8834-8893acc0249b"
      },
      "source": [
        "history_1 = model_1.fit(X_train, y_train, epochs = 20, validation_split=0.2, initial_epoch=10)"
      ],
      "execution_count": null,
      "outputs": [
        {
          "output_type": "stream",
          "text": [
            "Epoch 11/20\n",
            "1500/1500 [==============================] - 7s 4ms/step - loss: 0.1086 - accuracy: 0.9614 - val_loss: 0.3197 - val_accuracy: 0.9172\n",
            "Epoch 12/20\n",
            "1500/1500 [==============================] - 7s 4ms/step - loss: 0.0977 - accuracy: 0.9664 - val_loss: 0.3326 - val_accuracy: 0.9199\n",
            "Epoch 13/20\n",
            "1500/1500 [==============================] - 6s 4ms/step - loss: 0.0834 - accuracy: 0.9713 - val_loss: 0.3970 - val_accuracy: 0.9161\n",
            "Epoch 14/20\n",
            "1500/1500 [==============================] - 6s 4ms/step - loss: 0.0763 - accuracy: 0.9732 - val_loss: 0.4619 - val_accuracy: 0.9137\n",
            "Epoch 15/20\n",
            "1500/1500 [==============================] - 6s 4ms/step - loss: 0.0678 - accuracy: 0.9774 - val_loss: 0.6280 - val_accuracy: 0.9091\n",
            "Epoch 16/20\n",
            "1500/1500 [==============================] - 6s 4ms/step - loss: 0.0742 - accuracy: 0.9767 - val_loss: 0.5561 - val_accuracy: 0.9139\n",
            "Epoch 17/20\n",
            "1500/1500 [==============================] - 7s 4ms/step - loss: 0.0595 - accuracy: 0.9811 - val_loss: 0.5792 - val_accuracy: 0.9170\n",
            "Epoch 18/20\n",
            "1500/1500 [==============================] - 6s 4ms/step - loss: 0.0555 - accuracy: 0.9833 - val_loss: 0.6497 - val_accuracy: 0.9071\n",
            "Epoch 19/20\n",
            "1500/1500 [==============================] - 7s 4ms/step - loss: 0.0668 - accuracy: 0.9811 - val_loss: 0.6822 - val_accuracy: 0.9082\n",
            "Epoch 20/20\n",
            "1500/1500 [==============================] - 6s 4ms/step - loss: 0.0516 - accuracy: 0.9847 - val_loss: 0.7076 - val_accuracy: 0.9073\n"
          ],
          "name": "stdout"
        }
      ]
    },
    {
      "cell_type": "code",
      "metadata": {
        "colab": {
          "base_uri": "https://localhost:8080/",
          "height": 295
        },
        "id": "shyuO0usDT2j",
        "outputId": "5a163621-3ac6-460d-b16c-c57488c68ed3"
      },
      "source": [
        "train_acc = history_1.history['accuracy']\n",
        "val_acc = history_1.history['val_accuracy']\n",
        "epochs = range(11, 21)\n",
        "plt.plot(epochs, train_acc, 'g', label='Training accuracy')\n",
        "plt.plot(epochs, val_acc, 'b', label='validation accuracy')\n",
        "plt.title('Training and Validation accuracy')\n",
        "plt.xlabel('Epochs')\n",
        "plt.ylabel('Accuracy')\n",
        "plt.legend()\n",
        "plt.show()"
      ],
      "execution_count": null,
      "outputs": [
        {
          "output_type": "display_data",
          "data": {
            "image/png": "[encoded data removed]",
            "text/plain": [
              "<Figure size 432x288 with 1 Axes>"
            ]
          },
          "metadata": {
            "tags": [],
            "needs_background": "light"
          }
        }
      ]
    },
    {
      "cell_type": "markdown",
      "metadata": {
        "id": "BhKzrjshEsm3"
      },
      "source": [
        "#### Prediction:"
      ]
    },
    {
      "cell_type": "code",
      "metadata": {
        "colab": {
          "base_uri": "https://localhost:8080/"
        },
        "id": "bGtIxJ6BEr7g",
        "outputId": "2e24da02-5074-4414-e2df-5da6b5883a83"
      },
      "source": [
        "prediction = model_1.predict(X_test)\n",
        "prediction"
      ],
      "execution_count": null,
      "outputs": [
        {
          "output_type": "execute_result",
          "data": {
            "text/plain": [
              "array([[0.0000000e+00, 0.0000000e+00, 0.0000000e+00, ..., 0.0000000e+00,\n",
              "        0.0000000e+00, 1.0000000e+00],\n",
              "       [7.1908510e-14, 2.5012079e-17, 9.9997342e-01, ..., 4.8914554e-23,\n",
              "        8.9430422e-23, 0.0000000e+00],\n",
              "       [0.0000000e+00, 1.0000000e+00, 0.0000000e+00, ..., 0.0000000e+00,\n",
              "        0.0000000e+00, 0.0000000e+00],\n",
              "       ...,\n",
              "       [0.0000000e+00, 0.0000000e+00, 0.0000000e+00, ..., 0.0000000e+00,\n",
              "        1.0000000e+00, 0.0000000e+00],\n",
              "       [0.0000000e+00, 1.0000000e+00, 0.0000000e+00, ..., 0.0000000e+00,\n",
              "        0.0000000e+00, 0.0000000e+00],\n",
              "       [7.9962623e-28, 2.7444739e-19, 5.0755136e-14, ..., 2.0461515e-04,\n",
              "        1.6648963e-08, 4.2761257e-09]], dtype=float32)"
            ]
          },
          "metadata": {
            "tags": []
          },
          "execution_count": 21
        }
      ]
    },
    {
      "cell_type": "code",
      "metadata": {
        "colab": {
          "base_uri": "https://localhost:8080/"
        },
        "id": "mIj1Ra0tE55w",
        "outputId": "60b1e2be-ae21-4714-aad5-649b5f6d0d48"
      },
      "source": [
        "print(np.argmax(prediction[0]))"
      ],
      "execution_count": null,
      "outputs": [
        {
          "output_type": "stream",
          "text": [
            "9\n"
          ],
          "name": "stdout"
        }
      ]
    },
    {
      "cell_type": "markdown",
      "metadata": {
        "id": "PhNg-w1zFXkJ"
      },
      "source": [
        "Our model predicts that the 1st element in dataset is *Ankle Boot* \n",
        "\n",
        "lets see the actual label of this element in y_test"
      ]
    },
    {
      "cell_type": "code",
      "metadata": {
        "colab": {
          "base_uri": "https://localhost:8080/"
        },
        "id": "NkC5-c2GFVki",
        "outputId": "9757a2d2-39ff-40ae-930c-46c13cd4085e"
      },
      "source": [
        "print(y_test[0])"
      ],
      "execution_count": null,
      "outputs": [
        {
          "output_type": "stream",
          "text": [
            "[0. 0. 0. 0. 0. 0. 0. 0. 0. 1.]\n"
          ],
          "name": "stdout"
        }
      ]
    },
    {
      "cell_type": "markdown",
      "metadata": {
        "id": "ZFSvqRE4HO4E"
      },
      "source": [
        "## Model 2:\n",
        "\n",
        "- *Model Configuration*:\n",
        "1. Activation function in hidden layers = Leaky Relu\n",
        "2. Activation function in output layer = Softmax\n",
        "3. Initial epochs = 10\n",
        "4. maximum trials = 10\n",
        "5. final epochs = 30\n",
        "6. validation split = 20% of training data (i.e 0.2)\n",
        "7. optimizer = Adam\n",
        "\n"
      ]
    },
    {
      "cell_type": "code",
      "metadata": {
        "id": "iv05G8UhH8m4"
      },
      "source": [
        "lrelu = lambda x: tf.keras.activations.relu(x, alpha=0.1)"
      ],
      "execution_count": null,
      "outputs": []
    },
    {
      "cell_type": "code",
      "metadata": {
        "id": "aKgCyCLJKNaR"
      },
      "source": [
        "import keras\n",
        "\n",
        "def build_model(hp):\n",
        "  model = keras.Sequential([\n",
        "                            keras.layers.Conv2D(\n",
        "                                filters = hp.Int('filter_1', min_value = 32, max_value = 100, step = 10),\n",
        "                                kernel_size = hp.Choice('kernel_1', values = [3, 5]),\n",
        "                                activation = lrelu,\n",
        "                                input_shape = (28, 28, 1)\n",
        "                            ),\n",
        "                            keras.layers.Conv2D(\n",
        "                                filters = hp.Int('filter_2', min_value = 32, max_value = 64, step = 10),\n",
        "                                kernel_size = hp.Choice('kernel_2', values = [3, 5]),\n",
        "                                activation = lrelu\n",
        "                            ),\n",
        "                            keras.layers.Flatten(),\n",
        "                            keras.layers.Dense(\n",
        "                                units = hp.Int('dense_1', min_value = 32, max_value = 100, step = 10),\n",
        "                                activation = lrelu\n",
        "                            ),\n",
        "                            keras.layers.Dense(10, activation='softmax')\n",
        "  ])\n",
        "\n",
        "  model.compile(optimizer = keras.optimizers.Adam(hp.Choice('lerning_rate', values = [1e-2, 1e-3])),\n",
        "                loss = 'categorical_crossentropy',\n",
        "                metrics = ['accuracy'])\n",
        "  \n",
        "  return model"
      ],
      "execution_count": null,
      "outputs": []
    },
    {
      "cell_type": "code",
      "metadata": {
        "colab": {
          "base_uri": "https://localhost:8080/"
        },
        "id": "SWJSaNuQKQzH",
        "outputId": "f3857ddf-cf36-4656-f5f3-2b2f84ef1a6c"
      },
      "source": [
        "tuner_2 = RandomSearch(build_model, objective='val_accuracy', max_trials = 10)\n",
        "\n",
        "tuner_2.search(X_train, y_train, epochs = 10, validation_split = 0.1)\n",
        "\n",
        "best_model_2 = tuner_2.get_best_models(num_models=1)[0]\n",
        "\n",
        "best_model_2.summary()"
      ],
      "execution_count": null,
      "outputs": [
        {
          "output_type": "stream",
          "text": [
            "INFO:tensorflow:Reloading Oracle from existing project ./untitled_project/oracle.json\n",
            "INFO:tensorflow:Reloading Tuner from ./untitled_project/tuner0.json\n",
            "INFO:tensorflow:Oracle triggered exit\n",
            "Model: \"sequential\"\n",
            "_________________________________________________________________\n",
            "Layer (type)                 Output Shape              Param #   \n",
            "=================================================================\n",
            "conv2d (Conv2D)              (None, 24, 24, 72)        1872      \n",
            "_________________________________________________________________\n",
            "conv2d_1 (Conv2D)            (None, 22, 22, 52)        33748     \n",
            "_________________________________________________________________\n",
            "flatten (Flatten)            (None, 25168)             0         \n",
            "_________________________________________________________________\n",
            "dense (Dense)                (None, 92)                2315548   \n",
            "_________________________________________________________________\n",
            "dense_1 (Dense)              (None, 10)                930       \n",
            "=================================================================\n",
            "Total params: 2,352,098\n",
            "Trainable params: 2,352,098\n",
            "Non-trainable params: 0\n",
            "_________________________________________________________________\n"
          ],
          "name": "stdout"
        }
      ]
    },
    {
      "cell_type": "code",
      "metadata": {
        "colab": {
          "base_uri": "https://localhost:8080/"
        },
        "id": "-gvIqcXiKeUE",
        "outputId": "a456018d-c4f8-44bd-d9e5-661421eaa133"
      },
      "source": [
        "history_2 = best_model_2.fit(X_train, y_train, epochs = 30, validation_split=0.2, initial_epoch=10)"
      ],
      "execution_count": null,
      "outputs": [
        {
          "output_type": "stream",
          "text": [
            "Epoch 11/30\n",
            "1500/1500 [==============================] - 7s 5ms/step - loss: 38.9743 - accuracy: 0.8183 - val_loss: 3.6253 - val_accuracy: 0.8388\n",
            "Epoch 12/30\n",
            "1500/1500 [==============================] - 7s 5ms/step - loss: 4.3108 - accuracy: 0.8521 - val_loss: 2.1426 - val_accuracy: 0.8723\n",
            "Epoch 13/30\n",
            "1500/1500 [==============================] - 7s 5ms/step - loss: 1.9023 - accuracy: 0.8693 - val_loss: 3.4014 - val_accuracy: 0.8305\n",
            "Epoch 14/30\n",
            "1500/1500 [==============================] - 7s 5ms/step - loss: 1.3183 - accuracy: 0.8757 - val_loss: 1.4674 - val_accuracy: 0.8700\n",
            "Epoch 15/30\n",
            "1500/1500 [==============================] - 7s 5ms/step - loss: 2.6876 - accuracy: 0.8679 - val_loss: 1.0774 - val_accuracy: 0.8719\n",
            "Epoch 16/30\n",
            "1500/1500 [==============================] - 7s 5ms/step - loss: 0.5421 - accuracy: 0.9031 - val_loss: 1.1886 - val_accuracy: 0.8334\n",
            "Epoch 17/30\n",
            "1500/1500 [==============================] - 7s 5ms/step - loss: 0.5814 - accuracy: 0.8984 - val_loss: 0.7173 - val_accuracy: 0.8774\n",
            "Epoch 18/30\n",
            "1500/1500 [==============================] - 7s 5ms/step - loss: 0.4551 - accuracy: 0.9019 - val_loss: 0.7248 - val_accuracy: 0.8622\n",
            "Epoch 19/30\n",
            "1500/1500 [==============================] - 7s 5ms/step - loss: 1.1089 - accuracy: 0.8901 - val_loss: 0.6856 - val_accuracy: 0.8790\n",
            "Epoch 20/30\n",
            "1500/1500 [==============================] - 7s 5ms/step - loss: 0.5330 - accuracy: 0.8984 - val_loss: 0.6086 - val_accuracy: 0.8751\n",
            "Epoch 21/30\n",
            "1500/1500 [==============================] - 7s 5ms/step - loss: 0.3578 - accuracy: 0.9079 - val_loss: 0.6977 - val_accuracy: 0.8656\n",
            "Epoch 22/30\n",
            "1500/1500 [==============================] - 7s 5ms/step - loss: 1.9288 - accuracy: 0.8937 - val_loss: 5.4587 - val_accuracy: 0.7965\n",
            "Epoch 23/30\n",
            "1500/1500 [==============================] - 7s 5ms/step - loss: 0.6576 - accuracy: 0.8939 - val_loss: 0.6363 - val_accuracy: 0.8823\n",
            "Epoch 24/30\n",
            "1500/1500 [==============================] - 7s 5ms/step - loss: 0.2875 - accuracy: 0.9207 - val_loss: 1.1847 - val_accuracy: 0.8546\n",
            "Epoch 25/30\n",
            "1500/1500 [==============================] - 7s 5ms/step - loss: 0.3440 - accuracy: 0.9160 - val_loss: 0.6538 - val_accuracy: 0.8771\n",
            "Epoch 26/30\n",
            "1500/1500 [==============================] - 7s 5ms/step - loss: 2.3343 - accuracy: 0.8971 - val_loss: 1.5789 - val_accuracy: 0.8505\n",
            "Epoch 27/30\n",
            "1500/1500 [==============================] - 7s 5ms/step - loss: 0.3724 - accuracy: 0.9148 - val_loss: 1.0231 - val_accuracy: 0.8629\n",
            "Epoch 28/30\n",
            "1500/1500 [==============================] - 7s 5ms/step - loss: 0.3334 - accuracy: 0.9255 - val_loss: 0.8381 - val_accuracy: 0.8846\n",
            "Epoch 29/30\n",
            "1500/1500 [==============================] - 7s 5ms/step - loss: 0.3145 - accuracy: 0.9257 - val_loss: 1.3329 - val_accuracy: 0.8723\n",
            "Epoch 30/30\n",
            "1500/1500 [==============================] - 7s 5ms/step - loss: 0.8003 - accuracy: 0.9058 - val_loss: 1.0792 - val_accuracy: 0.8505\n"
          ],
          "name": "stdout"
        }
      ]
    },
    {
      "cell_type": "code",
      "metadata": {
        "colab": {
          "base_uri": "https://localhost:8080/",
          "height": 295
        },
        "id": "tryD9SDTKm-t",
        "outputId": "af6bd4a2-dcd1-4e72-e31e-7969f1d81a27"
      },
      "source": [
        "train_acc = history_2.history['accuracy']\n",
        "val_acc = history_2.history['val_accuracy']\n",
        "epochs = range(11, 31)\n",
        "plt.plot(epochs, train_acc, 'g', label='Training accuracy')\n",
        "plt.plot(epochs, val_acc, 'b', label='validation accuracy')\n",
        "plt.title('Training and Validation Accuracy')\n",
        "plt.xlabel('Epochs')\n",
        "plt.ylabel('Accuracy')\n",
        "plt.legend()\n",
        "plt.show()"
      ],
      "execution_count": null,
      "outputs": [
        {
          "output_type": "display_data",
          "data": {
            "image/png": "[encoded data removed]",
            "text/plain": [
              "<Figure size 432x288 with 1 Axes>"
            ]
          },
          "metadata": {
            "tags": [],
            "needs_background": "light"
          }
        }
      ]
    },
    {
      "cell_type": "markdown",
      "metadata": {
        "id": "ydyfudyHNjIx"
      },
      "source": [
        "#### Prediction:"
      ]
    },
    {
      "cell_type": "code",
      "metadata": {
        "colab": {
          "base_uri": "https://localhost:8080/"
        },
        "id": "nR0StvOeKwR-",
        "outputId": "34474296-a1e5-4be4-a826-42fc58ae0b43"
      },
      "source": [
        "prediction_lrelu = best_model_2.predict(X_test)\n",
        "print(np.argmax(prediction_lrelu[0]))\n",
        "print(y_test[0])"
      ],
      "execution_count": null,
      "outputs": [
        {
          "output_type": "stream",
          "text": [
            "9\n",
            "[0. 0. 0. 0. 0. 0. 0. 0. 0. 1.]\n"
          ],
          "name": "stdout"
        }
      ]
    },
    {
      "cell_type": "code",
      "metadata": {
        "id": "eIHv-ffDLQSU"
      },
      "source": [
        ""
      ],
      "execution_count": null,
      "outputs": []
    },
    {
      "cell_type": "markdown",
      "metadata": {
        "id": "P9uODY8lLSvX"
      },
      "source": [
        "## Model 3:\n",
        "- *Model Configration*:\n",
        "1. Activation function in hidden layers = Elu\n",
        "2. Activation function in output layer = Softmax\n",
        "3. Initial epochs = 10\n",
        "4. maximum trials = 10\n",
        "5. final epochs = 30\n",
        "6. validation split = 20% of training data (i.e 0.2)\n",
        "7. optimizer = Adam"
      ]
    },
    {
      "cell_type": "code",
      "metadata": {
        "id": "4juGMNWCLdK2"
      },
      "source": [
        "from keras.activations import elu\n",
        "\n",
        "ELU = lambda x: elu(x, alpha=0.4)"
      ],
      "execution_count": null,
      "outputs": []
    },
    {
      "cell_type": "code",
      "metadata": {
        "id": "kSenwrsRLz48"
      },
      "source": [
        "import keras\n",
        "\n",
        "def build_model(hp):\n",
        "  model = keras.Sequential([\n",
        "                            keras.layers.Conv2D(\n",
        "                                filters = hp.Int('filter_1', min_value = 32, max_value = 100, step = 10),\n",
        "                                kernel_size = hp.Choice('kernel_1', values = [3, 5]),\n",
        "                                activation = ELU,\n",
        "                                input_shape = (28, 28, 1)\n",
        "                            ),\n",
        "                            keras.layers.Conv2D(\n",
        "                                filters = hp.Int('filter_2', min_value = 32, max_value = 64, step = 10),\n",
        "                                kernel_size = hp.Choice('kernel_2', values = [3, 5]),\n",
        "                                activation = ELU\n",
        "                            ),\n",
        "                            keras.layers.Flatten(),\n",
        "                            keras.layers.Dense(\n",
        "                                units = hp.Int('dense_1', min_value = 32, max_value = 100, step = 10),\n",
        "                                activation = ELU\n",
        "                            ),\n",
        "                            keras.layers.Dense(10, activation='softmax')\n",
        "  ])\n",
        "\n",
        "  model.compile(optimizer = keras.optimizers.Adam(hp.Choice('lerning_rate', values = [1e-2, 1e-3])),\n",
        "                loss = 'categorical_crossentropy',\n",
        "                metrics = ['accuracy'])\n",
        "  \n",
        "  return model"
      ],
      "execution_count": null,
      "outputs": []
    },
    {
      "cell_type": "code",
      "metadata": {
        "colab": {
          "base_uri": "https://localhost:8080/"
        },
        "id": "RF6Vj_MvL21s",
        "outputId": "d2263077-d542-4668-9d40-96521c5bcb1e"
      },
      "source": [
        "tuner_3 = RandomSearch(build_model, objective='val_accuracy', max_trials = 10)\n",
        "\n",
        "tuner_3.search(X_train, y_train, epochs = 10, validation_split = 0.1)\n",
        "\n",
        "best_model_3 = tuner_3.get_best_models(num_models=1)[0]\n",
        "\n",
        "best_model_3.summary()"
      ],
      "execution_count": null,
      "outputs": [
        {
          "output_type": "stream",
          "text": [
            "INFO:tensorflow:Reloading Oracle from existing project ./untitled_project/oracle.json\n",
            "INFO:tensorflow:Reloading Tuner from ./untitled_project/tuner0.json\n",
            "INFO:tensorflow:Oracle triggered exit\n",
            "Model: \"sequential\"\n",
            "_________________________________________________________________\n",
            "Layer (type)                 Output Shape              Param #   \n",
            "=================================================================\n",
            "conv2d (Conv2D)              (None, 24, 24, 72)        1872      \n",
            "_________________________________________________________________\n",
            "conv2d_1 (Conv2D)            (None, 22, 22, 52)        33748     \n",
            "_________________________________________________________________\n",
            "flatten (Flatten)            (None, 25168)             0         \n",
            "_________________________________________________________________\n",
            "dense (Dense)                (None, 92)                2315548   \n",
            "_________________________________________________________________\n",
            "dense_1 (Dense)              (None, 10)                930       \n",
            "=================================================================\n",
            "Total params: 2,352,098\n",
            "Trainable params: 2,352,098\n",
            "Non-trainable params: 0\n",
            "_________________________________________________________________\n"
          ],
          "name": "stdout"
        }
      ]
    },
    {
      "cell_type": "code",
      "metadata": {
        "colab": {
          "base_uri": "https://localhost:8080/"
        },
        "id": "f2JjKieQL50H",
        "outputId": "aeac796b-033f-4db8-de8b-b609adb3d9e6"
      },
      "source": [
        "history_3 = best_model_3.fit(X_train, y_train, epochs = 30, validation_split = 0.2, initial_epoch=10)"
      ],
      "execution_count": null,
      "outputs": [
        {
          "output_type": "stream",
          "text": [
            "Epoch 11/30\n",
            "1500/1500 [==============================] - 8s 5ms/step - loss: 0.1561 - accuracy: 0.9491 - val_loss: 0.5487 - val_accuracy: 0.8962\n",
            "Epoch 12/30\n",
            "1500/1500 [==============================] - 8s 5ms/step - loss: 0.1704 - accuracy: 0.9426 - val_loss: 0.5592 - val_accuracy: 0.8954\n",
            "Epoch 13/30\n",
            "1500/1500 [==============================] - 8s 5ms/step - loss: 0.1258 - accuracy: 0.9566 - val_loss: 0.7110 - val_accuracy: 0.8909\n",
            "Epoch 14/30\n",
            "1500/1500 [==============================] - 8s 5ms/step - loss: 0.1224 - accuracy: 0.9596 - val_loss: 0.6771 - val_accuracy: 0.8882\n",
            "Epoch 15/30\n",
            "1500/1500 [==============================] - 8s 5ms/step - loss: 0.1570 - accuracy: 0.9485 - val_loss: 0.6565 - val_accuracy: 0.8916\n",
            "Epoch 16/30\n",
            "1500/1500 [==============================] - 8s 5ms/step - loss: 0.1341 - accuracy: 0.9572 - val_loss: 0.8393 - val_accuracy: 0.8952\n",
            "Epoch 17/30\n",
            "1500/1500 [==============================] - 8s 5ms/step - loss: 0.2119 - accuracy: 0.9380 - val_loss: 0.5828 - val_accuracy: 0.8863\n",
            "Epoch 18/30\n",
            "1500/1500 [==============================] - 8s 5ms/step - loss: 0.1511 - accuracy: 0.9521 - val_loss: 0.6819 - val_accuracy: 0.8843\n",
            "Epoch 19/30\n",
            "1500/1500 [==============================] - 8s 5ms/step - loss: 0.1026 - accuracy: 0.9659 - val_loss: 0.7420 - val_accuracy: 0.8975\n",
            "Epoch 20/30\n",
            "1500/1500 [==============================] - 8s 5ms/step - loss: 0.1247 - accuracy: 0.9593 - val_loss: 0.8557 - val_accuracy: 0.8968\n",
            "Epoch 21/30\n",
            "1500/1500 [==============================] - 8s 5ms/step - loss: 0.1070 - accuracy: 0.9651 - val_loss: 1.0610 - val_accuracy: 0.8860\n",
            "Epoch 22/30\n",
            "1500/1500 [==============================] - 8s 5ms/step - loss: 0.1396 - accuracy: 0.9569 - val_loss: 0.7668 - val_accuracy: 0.8933\n",
            "Epoch 23/30\n",
            "1500/1500 [==============================] - 8s 5ms/step - loss: 0.0981 - accuracy: 0.9672 - val_loss: 0.7898 - val_accuracy: 0.8902\n",
            "Epoch 24/30\n",
            "1500/1500 [==============================] - 8s 5ms/step - loss: 0.0863 - accuracy: 0.9711 - val_loss: 0.9836 - val_accuracy: 0.8946\n",
            "Epoch 25/30\n",
            "1500/1500 [==============================] - 8s 5ms/step - loss: 0.1528 - accuracy: 0.9546 - val_loss: 0.7049 - val_accuracy: 0.8982\n",
            "Epoch 26/30\n",
            "1500/1500 [==============================] - 8s 5ms/step - loss: 0.0846 - accuracy: 0.9726 - val_loss: 1.2070 - val_accuracy: 0.8856\n",
            "Epoch 27/30\n",
            "1500/1500 [==============================] - 8s 5ms/step - loss: 0.1107 - accuracy: 0.9649 - val_loss: 0.8932 - val_accuracy: 0.8963\n",
            "Epoch 28/30\n",
            "1500/1500 [==============================] - 8s 5ms/step - loss: 0.2039 - accuracy: 0.9419 - val_loss: 0.9137 - val_accuracy: 0.8903\n",
            "Epoch 29/30\n",
            "1500/1500 [==============================] - 8s 5ms/step - loss: 0.0882 - accuracy: 0.9706 - val_loss: 0.8312 - val_accuracy: 0.8890\n",
            "Epoch 30/30\n",
            "1500/1500 [==============================] - 8s 5ms/step - loss: 0.0901 - accuracy: 0.9712 - val_loss: 0.9085 - val_accuracy: 0.8924\n"
          ],
          "name": "stdout"
        }
      ]
    },
    {
      "cell_type": "code",
      "metadata": {
        "colab": {
          "base_uri": "https://localhost:8080/",
          "height": 295
        },
        "id": "243XulLUL9VP",
        "outputId": "dfffb278-f1b4-4798-ce39-3d2de7ee7a4c"
      },
      "source": [
        "train_acc = history_3.history['accuracy']\n",
        "val_acc = history_3.history['val_accuracy']\n",
        "epochs = range(11, 31)\n",
        "plt.plot(epochs, train_acc, 'g', label='Training accuracy')\n",
        "plt.plot(epochs, val_acc, 'b', label='validation accuracy')\n",
        "plt.title('Training and Validation Accuracy')\n",
        "plt.xlabel('Epochs')\n",
        "plt.ylabel('Accuracy')\n",
        "plt.legend()\n",
        "plt.show()"
      ],
      "execution_count": null,
      "outputs": [
        {
          "output_type": "display_data",
          "data": {
            "image/png": "[encoded data removed]",
            "text/plain": [
              "<Figure size 432x288 with 1 Axes>"
            ]
          },
          "metadata": {
            "tags": [],
            "needs_background": "light"
          }
        }
      ]
    },
    {
      "cell_type": "markdown",
      "metadata": {
        "id": "vtO1VKIbNaIq"
      },
      "source": [
        "#### Prediction:"
      ]
    },
    {
      "cell_type": "code",
      "metadata": {
        "colab": {
          "base_uri": "https://localhost:8080/"
        },
        "id": "BAnDo3e3NEm-",
        "outputId": "6e7d8daf-9cb6-4a02-f19a-3f3f16e777fa"
      },
      "source": [
        "prediction_Prelu = best_model_3.predict(X_test)\n",
        "print(np.argmax(prediction_Prelu[0]))\n",
        "print(y_test[0])"
      ],
      "execution_count": null,
      "outputs": [
        {
          "output_type": "stream",
          "text": [
            "9\n",
            "[0. 0. 0. 0. 0. 0. 0. 0. 0. 1.]\n"
          ],
          "name": "stdout"
        }
      ]
    },
    {
      "cell_type": "code",
      "metadata": {
        "id": "aOwBBAEYNWcP"
      },
      "source": [
        ""
      ],
      "execution_count": null,
      "outputs": []
    }
  ]
}